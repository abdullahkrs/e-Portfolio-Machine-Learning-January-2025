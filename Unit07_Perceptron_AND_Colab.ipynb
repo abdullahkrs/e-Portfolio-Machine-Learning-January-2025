{
  "cells": [
    {
      "cell_type": "markdown",
      "metadata": {
        "id": "view-in-github",
        "colab_type": "text"
      },
      "source": [
        "<a href=\"https://colab.research.google.com/github/abdullahkrs/e-Portfolio-Machine-Learning-January-2025/blob/main/Unit07_Perceptron_AND_Colab.ipynb\" target=\"_parent\"><img src=\"https://colab.research.google.com/assets/colab-badge.svg\" alt=\"Open In Colab\"/></a>"
      ]
    },
    {
      "cell_type": "markdown",
      "metadata": {
        "id": "76da7e5d"
      },
      "source": [
        "\n",
        "# 🔢 Unit 7: Perceptron for AND Operator\n",
        "\n",
        "This notebook implements a **single-layer perceptron** to simulate the logical AND operation.\n",
        "\n",
        "## ✔️ Objective\n",
        "Train a perceptron model to:\n",
        "- Learn the logical behavior of the AND operator\n",
        "- Accept two binary inputs (0 or 1)\n",
        "- Produce 1 only if both inputs are 1\n",
        "\n",
        "## 💡 Learning Outcome\n",
        "This simple use case helps build intuition for how a perceptron can **learn and generalize logic gates**.\n",
        "\n",
        "---\n",
        "\n",
        "_Run each cell to visualize training and prediction results._\n"
      ]
    },
    {
      "cell_type": "markdown",
      "metadata": {
        "id": "dp9lUo-cIDNU"
      },
      "source": [
        "### Author: Dr Mike Lakoju, CardiffMet"
      ]
    },
    {
      "cell_type": "markdown",
      "metadata": {
        "id": "UiBDawSoIDNU"
      },
      "source": [
        "### Import Library"
      ]
    },
    {
      "cell_type": "code",
      "execution_count": 1,
      "metadata": {
        "id": "skDO-gPdIDNU"
      },
      "outputs": [],
      "source": [
        "import numpy as np"
      ]
    },
    {
      "cell_type": "markdown",
      "metadata": {
        "id": "2suVzpb2IDNV"
      },
      "source": [
        "### Define \"Inputs, outputs and weights\" as Numpy arrays"
      ]
    },
    {
      "cell_type": "markdown",
      "metadata": {
        "id": "JB7eAG4_IDNV"
      },
      "source": [
        "#### Inputs"
      ]
    },
    {
      "cell_type": "code",
      "execution_count": 2,
      "metadata": {
        "id": "YNA9LtCCIDNV"
      },
      "outputs": [],
      "source": [
        "# Creating input values as a matrix not as a vector\n",
        "inputs = np.array([[0,0], [0,1], [1,0], [1,1]])"
      ]
    },
    {
      "cell_type": "code",
      "execution_count": 3,
      "metadata": {
        "colab": {
          "base_uri": "https://localhost:8080/"
        },
        "id": "jAFFkcAEIDNV",
        "outputId": "dd1c8f06-1591-407b-f420-dc7f8b3f8396"
      },
      "outputs": [
        {
          "output_type": "execute_result",
          "data": {
            "text/plain": [
              "(4, 2)"
            ]
          },
          "metadata": {},
          "execution_count": 3
        }
      ],
      "source": [
        "# Chcking the shape of the inputs\n",
        "\n",
        "inputs.shape"
      ]
    },
    {
      "cell_type": "markdown",
      "metadata": {
        "id": "ebB_90fhIDNV"
      },
      "source": [
        "#### Outputs"
      ]
    },
    {
      "cell_type": "code",
      "execution_count": 4,
      "metadata": {
        "id": "Wnl1NDVNIDNW"
      },
      "outputs": [],
      "source": [
        "outputs = np.array([0, 0, 0, 1])"
      ]
    },
    {
      "cell_type": "code",
      "execution_count": 5,
      "metadata": {
        "colab": {
          "base_uri": "https://localhost:8080/"
        },
        "id": "1oad5F5HIDNW",
        "outputId": "95e8e28a-965e-4042-ecad-d78ba9bdd84f"
      },
      "outputs": [
        {
          "output_type": "execute_result",
          "data": {
            "text/plain": [
              "(4,)"
            ]
          },
          "metadata": {},
          "execution_count": 5
        }
      ],
      "source": [
        "#Checking the shape of the outputs\n",
        "\n",
        "outputs.shape"
      ]
    },
    {
      "cell_type": "markdown",
      "metadata": {
        "id": "FsI9FfgmIDNW"
      },
      "source": [
        "#### Weights"
      ]
    },
    {
      "cell_type": "code",
      "execution_count": 6,
      "metadata": {
        "id": "MdOGDCNDIDNW"
      },
      "outputs": [],
      "source": [
        "# one weight for x1 and one for x2\n",
        "weights = np.array([0.0, 0.0])"
      ]
    },
    {
      "cell_type": "markdown",
      "metadata": {
        "id": "wzYE-tu7IDNW"
      },
      "source": [
        "#### Learning Rate"
      ]
    },
    {
      "cell_type": "code",
      "execution_count": 7,
      "metadata": {
        "id": "GeBMD3ORIDNW"
      },
      "outputs": [],
      "source": [
        "learning_rate = 0.1"
      ]
    },
    {
      "cell_type": "markdown",
      "metadata": {
        "id": "TD4wLjaCIDNW"
      },
      "source": [
        "## Step function"
      ]
    },
    {
      "cell_type": "code",
      "execution_count": 8,
      "metadata": {
        "id": "3olGLp2fIDNW"
      },
      "outputs": [],
      "source": [
        "# This is our Activation function\n",
        "\n",
        "def step_function(sum):\n",
        "  if (sum >= 1):\n",
        "    #print(f'The Sum of Weights is Greater or equal to 1')\n",
        "    return 1\n",
        "  else:\n",
        "        #print(f'The Sum of Weights is NOT > or = to 1')\n",
        "        return 0"
      ]
    },
    {
      "cell_type": "markdown",
      "metadata": {
        "id": "Q9OcuTodIDNW"
      },
      "source": [
        "## Process Output"
      ]
    },
    {
      "cell_type": "markdown",
      "metadata": {
        "id": "TwVMCW1mIDNW"
      },
      "source": [
        "<b>We define a function that allows us to calculate/ process the output. The function accepts an instance of our data, then calculate the sum function using Numpy. Finally, we check the output by passing it through the \"Step Function.\"</b>"
      ]
    },
    {
      "cell_type": "code",
      "execution_count": 9,
      "metadata": {
        "id": "9wUDGgn0IDNX"
      },
      "outputs": [],
      "source": [
        "def cal_output(instance):\n",
        "  sum_func = instance.dot(weights)\n",
        "  return step_function(sum_func)"
      ]
    },
    {
      "cell_type": "markdown",
      "metadata": {
        "id": "H1cJqak6IDNX"
      },
      "source": [
        "We pass it as alist in a numpy array ..."
      ]
    },
    {
      "cell_type": "code",
      "execution_count": 10,
      "metadata": {
        "colab": {
          "base_uri": "https://localhost:8080/"
        },
        "id": "4ePv3rBCIDNX",
        "outputId": "6d08bf02-a35b-4234-d701-456109dcbded"
      },
      "outputs": [
        {
          "output_type": "execute_result",
          "data": {
            "text/plain": [
              "0"
            ]
          },
          "metadata": {},
          "execution_count": 10
        }
      ],
      "source": [
        "cal_output(np.array([[1,1]]))"
      ]
    },
    {
      "cell_type": "markdown",
      "metadata": {
        "id": "lqAt9TM8IDNX"
      },
      "source": [
        "## Train"
      ]
    },
    {
      "cell_type": "code",
      "execution_count": 11,
      "metadata": {
        "colab": {
          "base_uri": "https://localhost:8080/"
        },
        "id": "dnBaErV2IDNX",
        "outputId": "9e11a954-5feb-4480-b1eb-f8dd0291a176"
      },
      "outputs": [
        {
          "output_type": "execute_result",
          "data": {
            "text/plain": [
              "4"
            ]
          },
          "metadata": {},
          "execution_count": 11
        }
      ],
      "source": [
        "# Check the number of outputs\n",
        "\n",
        "len(outputs)"
      ]
    },
    {
      "cell_type": "code",
      "execution_count": 12,
      "metadata": {
        "colab": {
          "base_uri": "https://localhost:8080/"
        },
        "id": "YwDKAhvvIDNX",
        "outputId": "214da35f-ffd5-48dd-f677-e77bdbae7d5c"
      },
      "outputs": [
        {
          "output_type": "execute_result",
          "data": {
            "text/plain": [
              "array([1, 1])"
            ]
          },
          "metadata": {},
          "execution_count": 12
        }
      ],
      "source": [
        "# Checking the index of the input at postion 3 ..\n",
        "# this is the last inpute value\n",
        "inputs[3]"
      ]
    },
    {
      "cell_type": "code",
      "execution_count": 13,
      "metadata": {
        "colab": {
          "base_uri": "https://localhost:8080/"
        },
        "id": "sVoSGBldIDNY",
        "outputId": "85b5ca57-d63e-43a2-9539-074f5a84653a"
      },
      "outputs": [
        {
          "output_type": "execute_result",
          "data": {
            "text/plain": [
              "array([[0, 0],\n",
              "       [0, 1],\n",
              "       [1, 0],\n",
              "       [1, 1]])"
            ]
          },
          "metadata": {},
          "execution_count": 13
        }
      ],
      "source": [
        "inputs"
      ]
    },
    {
      "cell_type": "markdown",
      "metadata": {
        "id": "YgESf2xfIDNY"
      },
      "source": [
        "<b>Note that:</b> usually, we will need to define the number of epochs, because we will never really get a value of zero when dealing with real-world data. However, for this small data, we will run the loop till we obtain zero error"
      ]
    },
    {
      "cell_type": "code",
      "execution_count": 14,
      "metadata": {
        "id": "U6BzSDLmIDNY"
      },
      "outputs": [],
      "source": [
        "def train():\n",
        "    #\n",
        "    total_error_value = 1\n",
        "    # While the total_error_value is not equal to zero. we are asumming that at the start of running our network there will be no zero\n",
        "    while (total_error_value != 0):\n",
        "        #making the total_error 0 so we can do other calculations\n",
        "        total_error_value = 0\n",
        "        #Looping into each row of the dataset (remember indexing in python starts at zero hence 0-3 which are 4 values)\n",
        "        for i in range(len(outputs)):\n",
        "            #Calculating predictions\n",
        "            prediction = cal_output(inputs[i])\n",
        "            # Calculating the absolute value of the error\n",
        "            error = abs(outputs[i] - prediction)\n",
        "            #Updating the error\n",
        "            total_error_value  += error\n",
        "\n",
        "            if error > 0:\n",
        "                for j in range(len(weights)):\n",
        "                    #updating the weights for x1 and x2\n",
        "                    weights[j] = weights[j] + (learning_rate * inputs[i][j] * error)\n",
        "                    print('Weight updated to: ' + str(weights[j]))\n",
        "        print('Total error Value: ' + str(total_error_value))"
      ]
    },
    {
      "cell_type": "code",
      "execution_count": 15,
      "metadata": {
        "colab": {
          "base_uri": "https://localhost:8080/"
        },
        "id": "6uxz6dE0IDNY",
        "outputId": "59a77b98-8c3b-4286-c538-525804696175"
      },
      "outputs": [
        {
          "output_type": "stream",
          "name": "stdout",
          "text": [
            "Weight updated to: 0.1\n",
            "Weight updated to: 0.1\n",
            "Total error Value: 1\n",
            "Weight updated to: 0.2\n",
            "Weight updated to: 0.2\n",
            "Total error Value: 1\n",
            "Weight updated to: 0.30000000000000004\n",
            "Weight updated to: 0.30000000000000004\n",
            "Total error Value: 1\n",
            "Weight updated to: 0.4\n",
            "Weight updated to: 0.4\n",
            "Total error Value: 1\n",
            "Weight updated to: 0.5\n",
            "Weight updated to: 0.5\n",
            "Total error Value: 1\n",
            "Total error Value: 0\n"
          ]
        }
      ],
      "source": [
        "train()"
      ]
    },
    {
      "cell_type": "markdown",
      "metadata": {
        "id": "BPLs6emcIDNY"
      },
      "source": [
        "## Classification"
      ]
    },
    {
      "cell_type": "code",
      "execution_count": 16,
      "metadata": {
        "colab": {
          "base_uri": "https://localhost:8080/"
        },
        "id": "RHejBCl-IDNY",
        "outputId": "5a9e2361-88e3-404f-bd13-bd7211e81e9d"
      },
      "outputs": [
        {
          "output_type": "execute_result",
          "data": {
            "text/plain": [
              "array([0.5, 0.5])"
            ]
          },
          "metadata": {},
          "execution_count": 16
        }
      ],
      "source": [
        "# Now we have the final weights that will be used to classify new instances of the data after training.\n",
        "\n",
        "weights"
      ]
    },
    {
      "cell_type": "code",
      "execution_count": 17,
      "metadata": {
        "colab": {
          "base_uri": "https://localhost:8080/"
        },
        "id": "2zUBVKumIDNZ",
        "outputId": "aefc50b2-f83a-44ae-ba22-e4afd2ec1149"
      },
      "outputs": [
        {
          "output_type": "execute_result",
          "data": {
            "text/plain": [
              "0"
            ]
          },
          "metadata": {},
          "execution_count": 17
        }
      ],
      "source": [
        "cal_output(np.array([0,0]))"
      ]
    },
    {
      "cell_type": "code",
      "execution_count": 18,
      "metadata": {
        "colab": {
          "base_uri": "https://localhost:8080/"
        },
        "id": "gUQJasevIDNZ",
        "outputId": "a3d5e0b6-e2be-4a61-e580-b78f52f161f8"
      },
      "outputs": [
        {
          "output_type": "execute_result",
          "data": {
            "text/plain": [
              "0"
            ]
          },
          "metadata": {},
          "execution_count": 18
        }
      ],
      "source": [
        "cal_output(np.array([0,1]))"
      ]
    },
    {
      "cell_type": "code",
      "execution_count": null,
      "metadata": {
        "id": "HwxVLBavIDNZ",
        "outputId": "0170edf9-e566-48e8-9a43-6d90310f653e"
      },
      "outputs": [
        {
          "data": {
            "text/plain": [
              "0"
            ]
          },
          "execution_count": 19,
          "metadata": {},
          "output_type": "execute_result"
        }
      ],
      "source": [
        "cal_output(np.array([1,0]))"
      ]
    },
    {
      "cell_type": "code",
      "execution_count": 19,
      "metadata": {
        "colab": {
          "base_uri": "https://localhost:8080/"
        },
        "id": "fSwKn1wOIDNZ",
        "outputId": "6797a889-b69b-4868-883e-b6bff9aef64b"
      },
      "outputs": [
        {
          "output_type": "execute_result",
          "data": {
            "text/plain": [
              "1"
            ]
          },
          "metadata": {},
          "execution_count": 19
        }
      ],
      "source": [
        "cal_output(np.array([1,1]))"
      ]
    }
  ],
  "metadata": {
    "kernelspec": {
      "display_name": "Python 3",
      "language": "python",
      "name": "python3"
    },
    "language_info": {
      "codemirror_mode": {
        "name": "ipython",
        "version": 3
      },
      "file_extension": ".py",
      "mimetype": "text/x-python",
      "name": "python",
      "nbconvert_exporter": "python",
      "pygments_lexer": "ipython3",
      "version": "3.7.6"
    },
    "colab": {
      "provenance": [],
      "include_colab_link": true
    }
  },
  "nbformat": 4,
  "nbformat_minor": 0
}