{
  "cells": [
    {
      "cell_type": "markdown",
      "metadata": {
        "id": "view-in-github",
        "colab_type": "text"
      },
      "source": [
        "<a href=\"https://colab.research.google.com/github/abdullahkrs/e-Portfolio-Machine-Learning-January-2025/blob/main/Unit07_MultiLayer_Perceptron_FIXED_Attachments.ipynb\" target=\"_parent\"><img src=\"https://colab.research.google.com/assets/colab-badge.svg\" alt=\"Open In Colab\"/></a>"
      ]
    },
    {
      "cell_type": "markdown",
      "metadata": {
        "id": "7ddfbad3"
      },
      "source": [
        "\n",
        "# 🧠 Unit 7: Multi-Layer Perceptron with Sigmoid Function\n",
        "\n",
        "This notebook explores a **multi-layer perceptron (MLP)** using the **sigmoid activation function** to simulate how neural networks perform non-linear classification tasks.\n",
        "\n",
        "## ✅ Purpose\n",
        "- Understand how forward and backward propagation work in neural networks.\n",
        "- Learn how to apply the **sigmoid function** for activation.\n",
        "- Visualize error reduction across epochs during training.\n",
        "\n",
        "## 🧪 Learning Outcome\n",
        "You will gain a foundational understanding of how weights are updated using gradients, and how neurons in a hidden layer influence output through a multi-layer structure.\n",
        "\n",
        "---\n",
        "\n",
        "_Run the cells step-by-step to see how inputs are processed and adjusted during learning._\n"
      ]
    },
    {
      "cell_type": "markdown",
      "metadata": {
        "id": "Xi4fiBpDNiMB"
      },
      "source": [
        "### Author: Dr Mike Lakoju"
      ]
    },
    {
      "cell_type": "markdown",
      "metadata": {
        "id": "UZ722MaQNiMB"
      },
      "source": []
    },
    {
      "cell_type": "markdown",
      "metadata": {
        "id": "6P1e0zGINiMB"
      },
      "source": [
        "    * If X is high, the value is approximately 1\n",
        "    * if X is small, the value is approximately 0"
      ]
    },
    {
      "cell_type": "markdown",
      "metadata": {
        "id": "22AHFF6sNiMB"
      },
      "source": [
        "## Import Libraries"
      ]
    },
    {
      "cell_type": "code",
      "execution_count": 101,
      "metadata": {
        "id": "uJRuJBfbNiMB"
      },
      "outputs": [],
      "source": [
        "import numpy as np"
      ]
    },
    {
      "cell_type": "markdown",
      "metadata": {
        "id": "yRSB1EthNiMC"
      },
      "source": [
        "## Define the Sigmoid Function"
      ]
    },
    {
      "cell_type": "code",
      "execution_count": 102,
      "metadata": {
        "id": "YHRi8yRSNiMC"
      },
      "outputs": [],
      "source": [
        "def sigmoid(sum_func):\n",
        "  return 1 / (1 + np.exp(-sum_func))"
      ]
    },
    {
      "cell_type": "code",
      "execution_count": 103,
      "metadata": {
        "colab": {
          "base_uri": "https://localhost:8080/"
        },
        "id": "_BL0EZARNiMC",
        "outputId": "af1dbf42-b35b-4821-a2b1-60cc28745fc1"
      },
      "outputs": [
        {
          "output_type": "execute_result",
          "data": {
            "text/plain": [
              "np.float64(0.5)"
            ]
          },
          "metadata": {},
          "execution_count": 103
        }
      ],
      "source": [
        "sigmoid(0)"
      ]
    },
    {
      "cell_type": "code",
      "execution_count": 104,
      "metadata": {
        "colab": {
          "base_uri": "https://localhost:8080/"
        },
        "id": "m1knLvJUNiMD",
        "outputId": "a231f583-6054-45df-8068-4256a4e0a8f8"
      },
      "outputs": [
        {
          "output_type": "execute_result",
          "data": {
            "text/plain": [
              "np.float64(7.38905609893065)"
            ]
          },
          "metadata": {},
          "execution_count": 104
        }
      ],
      "source": [
        "np.exp(2)"
      ]
    },
    {
      "cell_type": "code",
      "execution_count": 105,
      "metadata": {
        "colab": {
          "base_uri": "https://localhost:8080/"
        },
        "id": "4-X1Krd4NiMD",
        "outputId": "c7dfc9bc-7795-483e-ec2a-0641aa9b363d"
      },
      "outputs": [
        {
          "output_type": "execute_result",
          "data": {
            "text/plain": [
              "np.float64(2.718281828459045)"
            ]
          },
          "metadata": {},
          "execution_count": 105
        }
      ],
      "source": [
        "np.exp(1)"
      ]
    },
    {
      "cell_type": "code",
      "execution_count": 106,
      "metadata": {
        "colab": {
          "base_uri": "https://localhost:8080/"
        },
        "id": "Y5UoiJwLNiMD",
        "outputId": "4824d031-6cab-4069-9e67-8149b092e17d"
      },
      "outputs": [
        {
          "output_type": "execute_result",
          "data": {
            "text/plain": [
              "np.float64(1.0)"
            ]
          },
          "metadata": {},
          "execution_count": 106
        }
      ],
      "source": [
        "sigmoid(40)"
      ]
    },
    {
      "cell_type": "code",
      "execution_count": 107,
      "metadata": {
        "colab": {
          "base_uri": "https://localhost:8080/"
        },
        "id": "iezS6_B3NiMD",
        "outputId": "b8931b17-a78f-499b-ef1a-2278849d4f95"
      },
      "outputs": [
        {
          "output_type": "execute_result",
          "data": {
            "text/plain": [
              "np.float64(1.2501528648238605e-09)"
            ]
          },
          "metadata": {},
          "execution_count": 107
        }
      ],
      "source": [
        "sigmoid(-20.5)"
      ]
    },
    {
      "cell_type": "markdown",
      "metadata": {
        "id": "1Sv2osWxNiMD"
      },
      "source": [
        "# Input Layer to Hidden Layer"
      ]
    },
    {
      "cell_type": "markdown",
      "metadata": {
        "id": "Rmf-qwXpNiMD"
      },
      "source": []
    },
    {
      "cell_type": "markdown",
      "metadata": {
        "id": "LTNV9j3hNiME"
      },
      "source": [
        "### Define \"Inputs, outputs and weights\" as Numpy arrays"
      ]
    },
    {
      "cell_type": "markdown",
      "metadata": {
        "id": "a6KeJSGUNiME"
      },
      "source": [
        "#### Inputs"
      ]
    },
    {
      "cell_type": "code",
      "execution_count": 108,
      "metadata": {
        "id": "LhZsEJZ0NiME"
      },
      "outputs": [],
      "source": [
        "inputs = np.array([[0,0],\n",
        "                   [0,1],\n",
        "                   [1,0],\n",
        "                   [1,1]])"
      ]
    },
    {
      "cell_type": "code",
      "execution_count": 109,
      "metadata": {
        "colab": {
          "base_uri": "https://localhost:8080/"
        },
        "id": "ks_Sc6WcNiME",
        "outputId": "e2c43a93-690a-42eb-98ed-4dea0c430238"
      },
      "outputs": [
        {
          "output_type": "execute_result",
          "data": {
            "text/plain": [
              "array([[0, 0],\n",
              "       [0, 1],\n",
              "       [1, 0],\n",
              "       [1, 1]])"
            ]
          },
          "metadata": {},
          "execution_count": 109
        }
      ],
      "source": [
        "inputs"
      ]
    },
    {
      "cell_type": "code",
      "execution_count": 110,
      "metadata": {
        "colab": {
          "base_uri": "https://localhost:8080/"
        },
        "id": "tuvEp3aiNiME",
        "outputId": "91619ff4-7a08-4b72-c971-9a2bf9657431"
      },
      "outputs": [
        {
          "output_type": "execute_result",
          "data": {
            "text/plain": [
              "(4, 2)"
            ]
          },
          "metadata": {},
          "execution_count": 110
        }
      ],
      "source": [
        "inputs.shape"
      ]
    },
    {
      "cell_type": "markdown",
      "metadata": {
        "id": "_YKV_w4PNiME"
      },
      "source": [
        "#### Outputs"
      ]
    },
    {
      "cell_type": "code",
      "execution_count": 111,
      "metadata": {
        "id": "BpA2rjiuNiME"
      },
      "outputs": [],
      "source": [
        "outputs = np.array([[0],\n",
        "                    [1],\n",
        "                    [1],\n",
        "                    [0]])"
      ]
    },
    {
      "cell_type": "code",
      "execution_count": 112,
      "metadata": {
        "colab": {
          "base_uri": "https://localhost:8080/"
        },
        "id": "7sL5_3dGNiMF",
        "outputId": "4574fbca-bf20-46e1-85af-c2b488d72b93"
      },
      "outputs": [
        {
          "output_type": "execute_result",
          "data": {
            "text/plain": [
              "(4, 1)"
            ]
          },
          "metadata": {},
          "execution_count": 112
        }
      ],
      "source": [
        "outputs.shape"
      ]
    },
    {
      "cell_type": "markdown",
      "metadata": {
        "id": "0E6rK6TZNiMF"
      },
      "source": [
        "### Weights"
      ]
    },
    {
      "cell_type": "markdown",
      "metadata": {
        "id": "pOFra0GLNiMF"
      },
      "source": [
        "#### These weights are for the connection between the inputs and the hidden layer"
      ]
    },
    {
      "cell_type": "code",
      "execution_count": 113,
      "metadata": {
        "colab": {
          "base_uri": "https://localhost:8080/"
        },
        "id": "lvQdOC9MNiMF",
        "outputId": "415dae8c-f2a4-4989-b5af-89366e482fce"
      },
      "outputs": [
        {
          "output_type": "execute_result",
          "data": {
            "text/plain": [
              "(2, 3)"
            ]
          },
          "metadata": {},
          "execution_count": 113
        }
      ],
      "source": [
        "# First row holds the weights for x1, 2nd row contains the weights for x2\n",
        "\n",
        "weights_0 = np.array([[-0.424, -0.740, -0.961],\n",
        "                     [0.358, -0.577, -0.469]])\n",
        "weights_0.shape"
      ]
    },
    {
      "cell_type": "markdown",
      "metadata": {
        "id": "sqGaba0qNiMF"
      },
      "source": [
        "#### These weights are for the connection between the  hidden layer and the output"
      ]
    },
    {
      "cell_type": "code",
      "execution_count": 114,
      "metadata": {
        "colab": {
          "base_uri": "https://localhost:8080/"
        },
        "id": "nvAKjYepNiMF",
        "outputId": "c62973a0-37d3-4132-dced-f5bae3e1fd0d"
      },
      "outputs": [
        {
          "output_type": "execute_result",
          "data": {
            "text/plain": [
              "(3, 1)"
            ]
          },
          "metadata": {},
          "execution_count": 114
        }
      ],
      "source": [
        "weights_1 = np.array([[-0.017],\n",
        "                     [-0.893],\n",
        "                     [0.148]])\n",
        "weights_1.shape"
      ]
    },
    {
      "cell_type": "markdown",
      "metadata": {
        "id": "YWxXbkASNiMF"
      },
      "source": [
        "#### Epochs & Learning Rate"
      ]
    },
    {
      "cell_type": "code",
      "execution_count": 115,
      "metadata": {
        "id": "BGuzZIaBNiMF"
      },
      "outputs": [],
      "source": [
        "epochs = 100\n",
        "learning_rate = 0.3"
      ]
    },
    {
      "cell_type": "code",
      "execution_count": 116,
      "metadata": {
        "id": "KKalwaWjNiMG"
      },
      "outputs": [],
      "source": [
        "#for epoch in epochs:"
      ]
    },
    {
      "cell_type": "markdown",
      "metadata": {
        "id": "Jgu2AKmLNiMG"
      },
      "source": [
        "Dealing with the first side"
      ]
    },
    {
      "cell_type": "code",
      "execution_count": 117,
      "metadata": {
        "colab": {
          "base_uri": "https://localhost:8080/"
        },
        "id": "ZQ4tzMGGNiMG",
        "outputId": "02add18e-5ee6-43b5-a918-285753067a2e"
      },
      "outputs": [
        {
          "output_type": "execute_result",
          "data": {
            "text/plain": [
              "array([[0, 0],\n",
              "       [0, 1],\n",
              "       [1, 0],\n",
              "       [1, 1]])"
            ]
          },
          "metadata": {},
          "execution_count": 117
        }
      ],
      "source": [
        "input_layer = inputs\n",
        "input_layer"
      ]
    },
    {
      "cell_type": "code",
      "execution_count": 118,
      "metadata": {
        "colab": {
          "base_uri": "https://localhost:8080/"
        },
        "id": "yChlPiIwNiMG",
        "outputId": "21f3b8b5-49e0-4be9-d78d-0860eee232f2"
      },
      "outputs": [
        {
          "output_type": "execute_result",
          "data": {
            "text/plain": [
              "array([[ 0.   ,  0.   ,  0.   ],\n",
              "       [ 0.358, -0.577, -0.469],\n",
              "       [-0.424, -0.74 , -0.961],\n",
              "       [-0.066, -1.317, -1.43 ]])"
            ]
          },
          "metadata": {},
          "execution_count": 118
        }
      ],
      "source": [
        "# \"sum_synapse_0\" This holds the sum function total of weights for the hidden layer\n",
        "# For the Output: Each row holds the sum_func for each input data  [0,0,0 -> data 0,0],[0.358, -0.577, -0.469 --> 0,1]\n",
        "# The dot product does the matrix multiplication and also the sum\n",
        "\n",
        "sum_synapse_0 = np.dot(input_layer, weights_0)\n",
        "sum_synapse_0"
      ]
    },
    {
      "cell_type": "code",
      "execution_count": 119,
      "metadata": {
        "colab": {
          "base_uri": "https://localhost:8080/"
        },
        "id": "yE4vyxJKNiMG",
        "outputId": "cbb83971-8bf6-4be1-8cd1-a28a057f3039"
      },
      "outputs": [
        {
          "output_type": "execute_result",
          "data": {
            "text/plain": [
              "array([[0.5       , 0.5       , 0.5       ],\n",
              "       [0.5885562 , 0.35962319, 0.38485296],\n",
              "       [0.39555998, 0.32300414, 0.27667802],\n",
              "       [0.48350599, 0.21131785, 0.19309868]])"
            ]
          },
          "metadata": {},
          "execution_count": 119
        }
      ],
      "source": [
        "# Computing the Sigmoid function for the Hidden layer\n",
        "\n",
        "hidden_layer = sigmoid(sum_synapse_0)\n",
        "hidden_layer"
      ]
    },
    {
      "cell_type": "markdown",
      "metadata": {
        "id": "FWq-fRPqNiMG"
      },
      "source": [
        "Dealing with the 2nd side\n"
      ]
    },
    {
      "cell_type": "code",
      "execution_count": 120,
      "metadata": {
        "colab": {
          "base_uri": "https://localhost:8080/"
        },
        "id": "L5RPC0p6NiMH",
        "outputId": "91189d92-2b0a-4c0d-cdd7-f9b90127df4d"
      },
      "outputs": [
        {
          "output_type": "execute_result",
          "data": {
            "text/plain": [
              "array([[-0.017],\n",
              "       [-0.893],\n",
              "       [ 0.148]])"
            ]
          },
          "metadata": {},
          "execution_count": 120
        }
      ],
      "source": [
        "weights_1"
      ]
    },
    {
      "cell_type": "code",
      "execution_count": 121,
      "metadata": {
        "colab": {
          "base_uri": "https://localhost:8080/"
        },
        "id": "uabDKJ9TNiMH",
        "outputId": "ad246161-28a7-4914-8878-5fb4c10efc2b"
      },
      "outputs": [
        {
          "output_type": "execute_result",
          "data": {
            "text/plain": [
              "array([[-0.381     ],\n",
              "       [-0.27419072],\n",
              "       [-0.25421887],\n",
              "       [-0.16834784]])"
            ]
          },
          "metadata": {},
          "execution_count": 121
        }
      ],
      "source": [
        "# \"sum_synapse_1\" This holds the sum function total of weights for the output layer\n",
        "# For the Output: Each row holds the sum_func for each input data\n",
        "\n",
        "sum_synapse_1 = np.dot(hidden_layer, weights_1)\n",
        "sum_synapse_1"
      ]
    },
    {
      "cell_type": "code",
      "execution_count": 122,
      "metadata": {
        "colab": {
          "base_uri": "https://localhost:8080/"
        },
        "id": "H1MVD2aINiMH",
        "outputId": "87ed25b9-5ee3-4959-e338-b1ea7e85239e"
      },
      "outputs": [
        {
          "output_type": "execute_result",
          "data": {
            "text/plain": [
              "array([[0.40588573],\n",
              "       [0.43187857],\n",
              "       [0.43678536],\n",
              "       [0.45801216]])"
            ]
          },
          "metadata": {},
          "execution_count": 122
        }
      ],
      "source": [
        "output_layer = sigmoid(sum_synapse_1)\n",
        "output_layer"
      ]
    },
    {
      "cell_type": "markdown",
      "metadata": {
        "id": "7BF1s1ILNiMH"
      },
      "source": []
    },
    {
      "cell_type": "code",
      "execution_count": 123,
      "metadata": {
        "colab": {
          "base_uri": "https://localhost:8080/"
        },
        "id": "w-e6QdSgNiMH",
        "outputId": "bdfb0924-4ea0-4de8-90c3-1e54cca9138c"
      },
      "outputs": [
        {
          "output_type": "execute_result",
          "data": {
            "text/plain": [
              "array([[0],\n",
              "       [1],\n",
              "       [1],\n",
              "       [0]])"
            ]
          },
          "metadata": {},
          "execution_count": 123
        }
      ],
      "source": [
        "outputs"
      ]
    },
    {
      "cell_type": "code",
      "execution_count": 124,
      "metadata": {
        "colab": {
          "base_uri": "https://localhost:8080/"
        },
        "id": "vAlOzdlXNiMH",
        "outputId": "31d6e3f9-db80-4a08-e3d1-567b08921af0"
      },
      "outputs": [
        {
          "output_type": "execute_result",
          "data": {
            "text/plain": [
              "array([[0.40588573],\n",
              "       [0.43187857],\n",
              "       [0.43678536],\n",
              "       [0.45801216]])"
            ]
          },
          "metadata": {},
          "execution_count": 124
        }
      ],
      "source": [
        "output_layer"
      ]
    },
    {
      "cell_type": "code",
      "execution_count": 125,
      "metadata": {
        "colab": {
          "base_uri": "https://localhost:8080/"
        },
        "id": "swfIW_ocNiMH",
        "outputId": "cf79867f-59b1-450e-cace-1221a969d6e4"
      },
      "outputs": [
        {
          "output_type": "execute_result",
          "data": {
            "text/plain": [
              "array([[-0.40588573],\n",
              "       [ 0.56812143],\n",
              "       [ 0.56321464],\n",
              "       [-0.45801216]])"
            ]
          },
          "metadata": {},
          "execution_count": 125
        }
      ],
      "source": [
        "error_output_layer = outputs - output_layer\n",
        "error_output_layer"
      ]
    },
    {
      "cell_type": "code",
      "execution_count": 126,
      "metadata": {
        "colab": {
          "base_uri": "https://localhost:8080/"
        },
        "id": "EbCsw2tsNiMH",
        "outputId": "96653d82-c019-47d0-cc54-e4cdc3feed22"
      },
      "outputs": [
        {
          "output_type": "execute_result",
          "data": {
            "text/plain": [
              "np.float64(0.49880848923713045)"
            ]
          },
          "metadata": {},
          "execution_count": 126
        }
      ],
      "source": [
        "average_error = np.mean(abs(error_output_layer))\n",
        "average_error"
      ]
    },
    {
      "cell_type": "markdown",
      "metadata": {
        "id": "xu92ZCxBNiMI"
      },
      "source": [
        "Sigmoid Derivative"
      ]
    },
    {
      "cell_type": "code",
      "execution_count": 127,
      "metadata": {
        "id": "57207vWkNiMI"
      },
      "outputs": [],
      "source": [
        "def sigmoid_derivative(sigmoid):\n",
        "    return sigmoid * (1 - sigmoid)"
      ]
    },
    {
      "cell_type": "markdown",
      "metadata": {
        "id": "Xe2GUbXsNiMI"
      },
      "source": [
        "# Delta output Calculation"
      ]
    },
    {
      "cell_type": "markdown",
      "metadata": {
        "id": "3RXuwpxHNiMI"
      },
      "source": []
    },
    {
      "cell_type": "code",
      "execution_count": 128,
      "metadata": {
        "colab": {
          "base_uri": "https://localhost:8080/"
        },
        "id": "XNOjUFtYNiMI",
        "outputId": "46bfdba2-ad18-4b59-9ac8-c2a286bfca16"
      },
      "outputs": [
        {
          "output_type": "execute_result",
          "data": {
            "text/plain": [
              "array([[0.40588573],\n",
              "       [0.43187857],\n",
              "       [0.43678536],\n",
              "       [0.45801216]])"
            ]
          },
          "metadata": {},
          "execution_count": 128
        }
      ],
      "source": [
        "# output_layer holds the results of our application of the sigmoid, computed above\n",
        "\n",
        "output_layer"
      ]
    },
    {
      "cell_type": "code",
      "execution_count": 129,
      "metadata": {
        "colab": {
          "base_uri": "https://localhost:8080/"
        },
        "id": "9qjTJttSNiMI",
        "outputId": "01d018ce-83f2-4103-d19c-2efa511509ce"
      },
      "outputs": [
        {
          "output_type": "execute_result",
          "data": {
            "text/plain": [
              "array([[0.2411425 ],\n",
              "       [0.24535947],\n",
              "       [0.24600391],\n",
              "       [0.24823702]])"
            ]
          },
          "metadata": {},
          "execution_count": 129
        }
      ],
      "source": [
        "# derivative_output is our Derivative of the activation function (sigmoid) which we have on the slide\n",
        "# each row is for each instance of our input dataset\n",
        "\n",
        "derivative_output = sigmoid_derivative(output_layer)\n",
        "derivative_output"
      ]
    },
    {
      "cell_type": "code",
      "execution_count": 130,
      "metadata": {
        "colab": {
          "base_uri": "https://localhost:8080/"
        },
        "id": "BRS3H2wYNiMI",
        "outputId": "c101b637-4f68-42c8-fe4b-8dcef86c34d2"
      },
      "outputs": [
        {
          "output_type": "execute_result",
          "data": {
            "text/plain": [
              "array([[-0.40588573],\n",
              "       [ 0.56812143],\n",
              "       [ 0.56321464],\n",
              "       [-0.45801216]])"
            ]
          },
          "metadata": {},
          "execution_count": 130
        }
      ],
      "source": [
        "error_output_layer"
      ]
    },
    {
      "cell_type": "code",
      "execution_count": 131,
      "metadata": {
        "colab": {
          "base_uri": "https://localhost:8080/"
        },
        "id": "VRfhWtubNiMI",
        "outputId": "d0cfbbca-1917-4bdb-c633-fa56ba49fcce"
      },
      "outputs": [
        {
          "output_type": "execute_result",
          "data": {
            "text/plain": [
              "array([[-0.0978763 ],\n",
              "       [ 0.13939397],\n",
              "       [ 0.138553  ],\n",
              "       [-0.11369557]])"
            ]
          },
          "metadata": {},
          "execution_count": 131
        }
      ],
      "source": [
        "# Delta output\n",
        "# each row is for each instance of our input dataset\n",
        "\n",
        "delta_output = error_output_layer * derivative_output\n",
        "delta_output"
      ]
    },
    {
      "cell_type": "markdown",
      "metadata": {
        "id": "H7iwJQhmNiMI"
      },
      "source": [
        "# Delta calculations for the Hidden Layer\n"
      ]
    },
    {
      "cell_type": "code",
      "execution_count": 132,
      "metadata": {
        "colab": {
          "base_uri": "https://localhost:8080/"
        },
        "id": "mJ4Ad_NaNiMJ",
        "outputId": "ce11306a-4b4a-4091-8465-afb521aee7e6"
      },
      "outputs": [
        {
          "output_type": "execute_result",
          "data": {
            "text/plain": [
              "array([[-0.0978763 ],\n",
              "       [ 0.13939397],\n",
              "       [ 0.138553  ],\n",
              "       [-0.11369557]])"
            ]
          },
          "metadata": {},
          "execution_count": 132
        }
      ],
      "source": [
        "delta_output"
      ]
    },
    {
      "cell_type": "code",
      "execution_count": 133,
      "metadata": {
        "colab": {
          "base_uri": "https://localhost:8080/"
        },
        "id": "3HKeUwYMNiMJ",
        "outputId": "bd942fb0-0239-43e6-b2dd-44df676c84ad"
      },
      "outputs": [
        {
          "output_type": "execute_result",
          "data": {
            "text/plain": [
              "array([[-0.017],\n",
              "       [-0.893],\n",
              "       [ 0.148]])"
            ]
          },
          "metadata": {},
          "execution_count": 133
        }
      ],
      "source": [
        "weights_1"
      ]
    },
    {
      "cell_type": "markdown",
      "metadata": {
        "id": "6-0QCijkNiMJ"
      },
      "source": [
        "#### NOTE THAT:\n",
        "    * Lets deal with this part first (Weight  * delta_output)\n",
        "    * Notice that we will get an error below becuase of the shape of the weights_1  (Transpose)"
      ]
    },
    {
      "cell_type": "code",
      "execution_count": 134,
      "metadata": {
        "id": "MyITsBpKNiMJ"
      },
      "outputs": [],
      "source": [
        "delta_output_x_weight = delta_output.dot(weights_1.T)"
      ]
    },
    {
      "cell_type": "code",
      "execution_count": 135,
      "metadata": {
        "colab": {
          "base_uri": "https://localhost:8080/"
        },
        "id": "T--xgj0iNiMJ",
        "outputId": "92f8f935-f2dc-4bdc-aa1e-e338d57f008b"
      },
      "outputs": [
        {
          "output_type": "execute_result",
          "data": {
            "text/plain": [
              "(3, 1)"
            ]
          },
          "metadata": {},
          "execution_count": 135
        }
      ],
      "source": [
        "weights_1.shape"
      ]
    },
    {
      "cell_type": "code",
      "execution_count": 136,
      "metadata": {
        "colab": {
          "base_uri": "https://localhost:8080/"
        },
        "id": "T1tnfU2CNiMJ",
        "outputId": "bfa5cad0-da93-4786-e346-5400a632ca85"
      },
      "outputs": [
        {
          "output_type": "execute_result",
          "data": {
            "text/plain": [
              "array([[-0.017, -0.893,  0.148]])"
            ]
          },
          "metadata": {},
          "execution_count": 136
        }
      ],
      "source": [
        "weights_1T = weights_1.T\n",
        "weights_1T"
      ]
    },
    {
      "cell_type": "code",
      "execution_count": 137,
      "metadata": {
        "colab": {
          "base_uri": "https://localhost:8080/"
        },
        "id": "d-hlqdj1NiMJ",
        "outputId": "e6a84499-7c95-436d-b9fe-077852b38769"
      },
      "outputs": [
        {
          "output_type": "execute_result",
          "data": {
            "text/plain": [
              "(1, 3)"
            ]
          },
          "metadata": {},
          "execution_count": 137
        }
      ],
      "source": [
        "weights_1T.shape"
      ]
    },
    {
      "cell_type": "markdown",
      "metadata": {
        "id": "QAnRfdfSNiMJ"
      },
      "source": [
        "#### Each one of the weights will have to be multiplied by each delta_output for each data instance     \n",
        "       \n",
        "       array([[-0.017],\n",
        "             [-0.893],\n",
        "             [ 0.148]])"
      ]
    },
    {
      "cell_type": "code",
      "execution_count": 138,
      "metadata": {
        "colab": {
          "base_uri": "https://localhost:8080/"
        },
        "id": "tdH75oO7NiMK",
        "outputId": "7031d4dc-bc6a-4e99-bab0-285d725d3cbf"
      },
      "outputs": [
        {
          "output_type": "execute_result",
          "data": {
            "text/plain": [
              "array([[ 0.0016639 ,  0.08740354, -0.01448569],\n",
              "       [-0.0023697 , -0.12447882,  0.02063031],\n",
              "       [-0.0023554 , -0.12372783,  0.02050584],\n",
              "       [ 0.00193282,  0.10153015, -0.01682694]])"
            ]
          },
          "metadata": {},
          "execution_count": 138
        }
      ],
      "source": [
        "delta_output_x_weight = delta_output.dot(weights_1T)\n",
        "delta_output_x_weight"
      ]
    },
    {
      "cell_type": "markdown",
      "metadata": {
        "id": "e202KmTbNiMK"
      },
      "source": [
        "#### NOTE THAT:\n",
        "    * Now we need to deal with the last part of the equation   \n",
        "    * sigmoid_derivative * delta_output_x_weight"
      ]
    },
    {
      "cell_type": "code",
      "execution_count": 139,
      "metadata": {
        "colab": {
          "base_uri": "https://localhost:8080/"
        },
        "id": "PDn88noxNiMK",
        "outputId": "44df9179-b577-4359-9d41-bf4b3c0d57cb"
      },
      "outputs": [
        {
          "output_type": "execute_result",
          "data": {
            "text/plain": [
              "array([[0.5       , 0.5       , 0.5       ],\n",
              "       [0.5885562 , 0.35962319, 0.38485296],\n",
              "       [0.39555998, 0.32300414, 0.27667802],\n",
              "       [0.48350599, 0.21131785, 0.19309868]])"
            ]
          },
          "metadata": {},
          "execution_count": 139
        }
      ],
      "source": [
        "hidden_layer"
      ]
    },
    {
      "cell_type": "code",
      "execution_count": 140,
      "metadata": {
        "colab": {
          "base_uri": "https://localhost:8080/"
        },
        "id": "1TdIqr0yNiMK",
        "outputId": "082b9d84-6905-4147-a041-6e1534366296"
      },
      "outputs": [
        {
          "output_type": "execute_result",
          "data": {
            "text/plain": [
              "array([[ 0.00041597,  0.02185088, -0.00362142],\n",
              "       [-0.00057384, -0.02866677,  0.00488404],\n",
              "       [-0.00056316, -0.02705587,  0.00410378],\n",
              "       [ 0.00048268,  0.01692128, -0.00262183]])"
            ]
          },
          "metadata": {},
          "execution_count": 140
        }
      ],
      "source": [
        "#  Each row in the output of delta_hidden_layer is for the data input values\n",
        "\n",
        "delta_hidden_layer = delta_output_x_weight * sigmoid_derivative(hidden_layer)\n",
        "delta_hidden_layer"
      ]
    },
    {
      "cell_type": "markdown",
      "metadata": {
        "id": "ZXKrYjQGNiMK"
      },
      "source": []
    },
    {
      "cell_type": "markdown",
      "metadata": {
        "id": "xi0ymeWcNiMK"
      },
      "source": [
        "#### We will deal with the (input * delta) first\n",
        "* The first column in \"hidden_layer\" holds  the activation value for the first neuron"
      ]
    },
    {
      "cell_type": "code",
      "execution_count": 141,
      "metadata": {
        "colab": {
          "base_uri": "https://localhost:8080/"
        },
        "id": "yr0-AuHNNiMK",
        "outputId": "89ca2694-4ddd-4243-9ba7-08207197a5c6"
      },
      "outputs": [
        {
          "output_type": "execute_result",
          "data": {
            "text/plain": [
              "array([[0.5       , 0.5       , 0.5       ],\n",
              "       [0.5885562 , 0.35962319, 0.38485296],\n",
              "       [0.39555998, 0.32300414, 0.27667802],\n",
              "       [0.48350599, 0.21131785, 0.19309868]])"
            ]
          },
          "metadata": {},
          "execution_count": 141
        }
      ],
      "source": [
        "hidden_layer"
      ]
    },
    {
      "cell_type": "code",
      "execution_count": 142,
      "metadata": {
        "colab": {
          "base_uri": "https://localhost:8080/"
        },
        "id": "beS-RAQnNiMK",
        "outputId": "9b6c0a97-0691-4b70-aee2-cc885fb67518"
      },
      "outputs": [
        {
          "output_type": "execute_result",
          "data": {
            "text/plain": [
              "array([[-0.0978763 ],\n",
              "       [ 0.13939397],\n",
              "       [ 0.138553  ],\n",
              "       [-0.11369557]])"
            ]
          },
          "metadata": {},
          "execution_count": 142
        }
      ],
      "source": [
        "delta_output"
      ]
    },
    {
      "cell_type": "markdown",
      "metadata": {
        "id": "u8eNMDz6NiMK"
      },
      "source": [
        "* We need to multiply the \"inputs\" by \"delta\" however, for the matrix multiplication we need to transpose the values in the hidden_layer, so we have all of them on one row for each neuron"
      ]
    },
    {
      "cell_type": "code",
      "execution_count": 143,
      "metadata": {
        "colab": {
          "base_uri": "https://localhost:8080/"
        },
        "id": "-hm4unoeNiMK",
        "outputId": "ed13790a-e9e0-4eda-d2f1-a734580dd2af"
      },
      "outputs": [
        {
          "output_type": "execute_result",
          "data": {
            "text/plain": [
              "array([[0.5       , 0.5885562 , 0.39555998, 0.48350599],\n",
              "       [0.5       , 0.35962319, 0.32300414, 0.21131785],\n",
              "       [0.5       , 0.38485296, 0.27667802, 0.19309868]])"
            ]
          },
          "metadata": {},
          "execution_count": 143
        }
      ],
      "source": [
        "hidden_layerT = hidden_layer.T\n",
        "hidden_layerT"
      ]
    },
    {
      "cell_type": "code",
      "execution_count": 144,
      "metadata": {
        "colab": {
          "base_uri": "https://localhost:8080/"
        },
        "id": "9OIgKf_fNiML",
        "outputId": "1a57739d-b79a-4de4-d2fe-09e87ee7e9f2"
      },
      "outputs": [
        {
          "output_type": "execute_result",
          "data": {
            "text/plain": [
              "array([[0.03293657],\n",
              "       [0.02191844],\n",
              "       [0.02108814]])"
            ]
          },
          "metadata": {},
          "execution_count": 144
        }
      ],
      "source": [
        "input_x_delta1 = hidden_layerT.dot(delta_output)\n",
        "input_x_delta1"
      ]
    },
    {
      "cell_type": "markdown",
      "metadata": {
        "id": "KJ2n3BkZNiML"
      },
      "source": [
        "#### Let us now update the \"weights_1\""
      ]
    },
    {
      "cell_type": "code",
      "execution_count": 145,
      "metadata": {
        "colab": {
          "base_uri": "https://localhost:8080/"
        },
        "id": "PlzhmY8RNiML",
        "outputId": "4e98550f-813f-4489-fa34-81f4a07d0eae"
      },
      "outputs": [
        {
          "output_type": "execute_result",
          "data": {
            "text/plain": [
              "array([[-0.00711903],\n",
              "       [-0.88642447],\n",
              "       [ 0.15432644]])"
            ]
          },
          "metadata": {},
          "execution_count": 145
        }
      ],
      "source": [
        "weights_1 = weights_1 + (input_x_delta1 * learning_rate)\n",
        "weights_1"
      ]
    },
    {
      "cell_type": "markdown",
      "metadata": {
        "id": "ARvfwS4nNiML"
      },
      "source": []
    },
    {
      "cell_type": "markdown",
      "metadata": {
        "id": "_9-PkOm-NiML"
      },
      "source": [
        "## Dealing with the Hidden Layer to Input Layer"
      ]
    },
    {
      "cell_type": "code",
      "execution_count": 146,
      "metadata": {
        "colab": {
          "base_uri": "https://localhost:8080/"
        },
        "id": "d9TfRxblNiML",
        "outputId": "d56d3be6-6c68-4465-8c6c-49d3b374d8ba"
      },
      "outputs": [
        {
          "output_type": "execute_result",
          "data": {
            "text/plain": [
              "array([[0, 0],\n",
              "       [0, 1],\n",
              "       [1, 0],\n",
              "       [1, 1]])"
            ]
          },
          "metadata": {},
          "execution_count": 146
        }
      ],
      "source": [
        "# First column is X1, and 2nd column is X2 (our input values )\n",
        "\n",
        "input_layer"
      ]
    },
    {
      "cell_type": "code",
      "execution_count": 147,
      "metadata": {
        "colab": {
          "base_uri": "https://localhost:8080/"
        },
        "id": "A6T7-oogNiML",
        "outputId": "ae10808a-a067-4a42-a830-2c77eced9de2"
      },
      "outputs": [
        {
          "output_type": "execute_result",
          "data": {
            "text/plain": [
              "array([[ 0.00041597,  0.02185088, -0.00362142],\n",
              "       [-0.00057384, -0.02866677,  0.00488404],\n",
              "       [-0.00056316, -0.02705587,  0.00410378],\n",
              "       [ 0.00048268,  0.01692128, -0.00262183]])"
            ]
          },
          "metadata": {},
          "execution_count": 147
        }
      ],
      "source": [
        "delta_hidden_layer"
      ]
    },
    {
      "cell_type": "code",
      "execution_count": 148,
      "metadata": {
        "colab": {
          "base_uri": "https://localhost:8080/"
        },
        "id": "b-AAwT5DNiML",
        "outputId": "183f874f-6c1e-49b5-8734-7bcfbd3ff54f"
      },
      "outputs": [
        {
          "output_type": "execute_result",
          "data": {
            "text/plain": [
              "array([[0, 0, 1, 1],\n",
              "       [0, 1, 0, 1]])"
            ]
          },
          "metadata": {},
          "execution_count": 148
        }
      ],
      "source": [
        "# we need to transpose the values just as we did before\n",
        "\n",
        "input_layerT = input_layer.T\n",
        "input_layerT"
      ]
    },
    {
      "cell_type": "code",
      "execution_count": 149,
      "metadata": {
        "colab": {
          "base_uri": "https://localhost:8080/"
        },
        "id": "gFFH0nA9NiML",
        "outputId": "599a29b2-d1b8-448a-aba8-b5462cc47930"
      },
      "outputs": [
        {
          "output_type": "execute_result",
          "data": {
            "text/plain": [
              "array([[-8.04778516e-05, -1.01345901e-02,  1.48194623e-03],\n",
              "       [-9.11603819e-05, -1.17454886e-02,  2.26221011e-03]])"
            ]
          },
          "metadata": {},
          "execution_count": 149
        }
      ],
      "source": [
        "input_x_delta0 = input_layerT.dot(delta_hidden_layer)\n",
        "input_x_delta0"
      ]
    },
    {
      "cell_type": "code",
      "execution_count": 150,
      "metadata": {
        "colab": {
          "base_uri": "https://localhost:8080/"
        },
        "id": "oA0WZsaRNiMM",
        "outputId": "a9df1329-e947-413e-ee00-ec5e92910ae3"
      },
      "outputs": [
        {
          "output_type": "execute_result",
          "data": {
            "text/plain": [
              "array([[-0.42402414, -0.74304038, -0.96055542],\n",
              "       [ 0.35797265, -0.58052365, -0.46832134]])"
            ]
          },
          "metadata": {},
          "execution_count": 150
        }
      ],
      "source": [
        "weights_0 = weights_0 + (input_x_delta0 * learning_rate)\n",
        "weights_0"
      ]
    },
    {
      "cell_type": "markdown",
      "metadata": {
        "id": "7Mhe8M9_NiMM"
      },
      "source": []
    },
    {
      "cell_type": "markdown",
      "metadata": {
        "id": "tGIm1et_NiMM"
      },
      "source": [
        "### So all the lines of code above, has allowed us to complete our first epoch. we will need to put all the code together so we can run multiple epochs"
      ]
    },
    {
      "cell_type": "markdown",
      "metadata": {
        "id": "Op_-LpZMNiMM"
      },
      "source": [
        "# Complete Artificial Neural Network"
      ]
    },
    {
      "cell_type": "code",
      "execution_count": 151,
      "metadata": {
        "id": "CCi_p6pjNiMM"
      },
      "outputs": [],
      "source": [
        "#Importing Numpy\n",
        "import numpy as np\n",
        "\n",
        "# This is the sigmoid Function\n",
        "def sigmoid(sum):\n",
        "  return 1 / (1 + np.exp(-sum))\n",
        "\n",
        "#This is the sigmoid derivative as used before\n",
        "def sigmoid_derivative(sigmoid):\n",
        "  return sigmoid * (1 - sigmoid)\n",
        "\n",
        "# Our input values\n",
        "inputs = np.array([[0,0],\n",
        "                   [0,1],\n",
        "                   [1,0],\n",
        "                   [1,1]])\n",
        "#Our output values\n",
        "outputs = np.array([[0],\n",
        "                    [1],\n",
        "                    [1],\n",
        "                    [0]])"
      ]
    },
    {
      "cell_type": "code",
      "execution_count": 152,
      "metadata": {
        "id": "RWs680ONNiMM"
      },
      "outputs": [],
      "source": [
        "# weights_0 = np.array([[-0.424, -0.740, -0.961],\n",
        "#                     [0.358, -0.577, -0.469]])\n",
        "\n",
        "# weights_1 = np.array([[-0.017],\n",
        "#                     [-0.893],\n",
        "#                     [0.148]])"
      ]
    },
    {
      "cell_type": "markdown",
      "metadata": {
        "id": "GgdlfP9rNiMM"
      },
      "source": [
        "### Initializing our weights with random values\n",
        "* <b>Note:</b> Multiplying the random number by 2 and subtracting by 1, allows us to have a mix of both positive and negative random numbers for the weights"
      ]
    },
    {
      "cell_type": "code",
      "execution_count": 153,
      "metadata": {
        "id": "d3tP1uzZNiMM"
      },
      "outputs": [],
      "source": [
        "weights_0 = 2 * np.random.random((2, 3)) - 1\n",
        "weights_1 = 2 * np.random.random((3, 1)) - 1"
      ]
    },
    {
      "cell_type": "code",
      "execution_count": 154,
      "metadata": {
        "colab": {
          "base_uri": "https://localhost:8080/"
        },
        "id": "nQWNgJP_NiMM",
        "outputId": "6250bb2b-5a9f-4914-e4a9-85b1588d53ad"
      },
      "outputs": [
        {
          "output_type": "stream",
          "name": "stdout",
          "text": [
            "Epoch: 1 Error: 0.5000667039129754\n",
            "Epoch: 100001 Error: 0.011466604188231835\n",
            "Epoch: 200001 Error: 0.008024924732194327\n",
            "Epoch: 300001 Error: 0.006524771378499029\n"
          ]
        }
      ],
      "source": [
        "epochs = 400000\n",
        "learning_rate = 0.6\n",
        "error = []\n",
        "\n",
        "for epoch in range(epochs):\n",
        "  input_layer = inputs\n",
        "  sum_synapse0 = np.dot(input_layer, weights_0)\n",
        "  hidden_layer = sigmoid(sum_synapse0)\n",
        "\n",
        "  sum_synapse1 = np.dot(hidden_layer, weights_1)\n",
        "  output_layer = sigmoid(sum_synapse1)\n",
        "\n",
        "  error_output_layer = outputs - output_layer\n",
        "  average = np.mean(abs(error_output_layer))\n",
        "    #print after every specified range of the value\n",
        "  if epoch % 100000 == 0:\n",
        "    print('Epoch: ' + str(epoch + 1) + ' Error: ' + str(average))\n",
        "    error.append(average)\n",
        "\n",
        "  derivative_output = sigmoid_derivative(output_layer)\n",
        "  delta_output = error_output_layer * derivative_output\n",
        "\n",
        "  weights1T = weights_1.T\n",
        "  delta_output_weight = delta_output.dot(weights1T)\n",
        "  delta_hidden_layer = delta_output_weight * sigmoid_derivative(hidden_layer)\n",
        "\n",
        "  hidden_layerT = hidden_layer.T\n",
        "  input_x_delta1 = hidden_layerT.dot(delta_output)\n",
        "  weights_1 = weights_1 + (input_x_delta1 * learning_rate)\n",
        "\n",
        "  input_layerT = input_layer.T\n",
        "  input_x_delta0 = input_layerT.dot(delta_hidden_layer)\n",
        "  weights_0 = weights_0 + (input_x_delta0 * learning_rate)"
      ]
    },
    {
      "cell_type": "markdown",
      "metadata": {
        "id": "-PKXr3Q6NiMM"
      },
      "source": [
        "#### At this point after runing for 1million epochs you can see the value is very low."
      ]
    },
    {
      "cell_type": "code",
      "execution_count": 155,
      "metadata": {
        "colab": {
          "base_uri": "https://localhost:8080/"
        },
        "id": "DxvZly1RNiMN",
        "outputId": "c20655f8-eb1d-483f-ccbc-f89c681c9fe5"
      },
      "outputs": [
        {
          "output_type": "execute_result",
          "data": {
            "text/plain": [
              "0.9903290320690693"
            ]
          },
          "metadata": {},
          "execution_count": 155
        }
      ],
      "source": [
        "#1 million epochs with a learning rate of 0.3\n",
        "1 - 0.009670967930930745"
      ]
    },
    {
      "cell_type": "code",
      "execution_count": 156,
      "metadata": {
        "colab": {
          "base_uri": "https://localhost:8080/"
        },
        "id": "dlKXCBJiNiMN",
        "outputId": "81dd0f1b-e3cb-4503-c8f9-8968bdafb769"
      },
      "outputs": [
        {
          "output_type": "execute_result",
          "data": {
            "text/plain": [
              "0.9918079771904136"
            ]
          },
          "metadata": {},
          "execution_count": 156
        }
      ],
      "source": [
        "#after 400,000 epochs, with a learning rate of 0.6\n",
        "1- 0.008192022809586367"
      ]
    },
    {
      "cell_type": "markdown",
      "metadata": {
        "id": "LowriLGdNiMN"
      },
      "source": [
        "# Let's visualize this result"
      ]
    },
    {
      "cell_type": "code",
      "execution_count": 157,
      "metadata": {
        "id": "lC1DvwBBNiMN"
      },
      "outputs": [],
      "source": [
        "import matplotlib.pyplot as plt\n"
      ]
    },
    {
      "cell_type": "code",
      "execution_count": 158,
      "metadata": {
        "colab": {
          "base_uri": "https://localhost:8080/",
          "height": 472
        },
        "id": "NCCd0Yy3NiMN",
        "outputId": "2472e7e8-94dc-4e68-e59c-430feb73e49c"
      },
      "outputs": [
        {
          "output_type": "display_data",
          "data": {
            "text/plain": [
              "<Figure size 640x480 with 1 Axes>"
            ],
            "image/png": "[encoded data removed]"
          },
          "metadata": {}
        }
      ],
      "source": [
        "plt.xlabel('Number of Epochs')\n",
        "plt.ylabel('Error')\n",
        "plt.title('Plot showing results from Neural Network')\n",
        "plt.plot(error)\n",
        "plt.show()"
      ]
    },
    {
      "cell_type": "code",
      "execution_count": 159,
      "metadata": {
        "colab": {
          "base_uri": "https://localhost:8080/",
          "height": 472
        },
        "id": "vfP3v6NaNiMN",
        "outputId": "94500f73-eb49-42b7-9777-2a3b8530db45"
      },
      "outputs": [
        {
          "output_type": "display_data",
          "data": {
            "text/plain": [
              "<Figure size 640x480 with 1 Axes>"
            ],
            "image/png": "[encoded data removed]"
          },
          "metadata": {}
        }
      ],
      "source": [
        "plt.xlabel('Number of Epochs')\n",
        "plt.ylabel('Error')\n",
        "plt.title('Plot showing results from Neural Network')\n",
        "plt.plot(error)\n",
        "plt.show()"
      ]
    },
    {
      "cell_type": "markdown",
      "metadata": {
        "id": "daRzCud8NiMN"
      },
      "source": [
        "#### Compearing the outputs and the predictions"
      ]
    },
    {
      "cell_type": "code",
      "execution_count": 160,
      "metadata": {
        "colab": {
          "base_uri": "https://localhost:8080/"
        },
        "id": "n6Y7cZ6SNiMN",
        "outputId": "0c56f22c-f985-4753-d26d-daeed1091f2b"
      },
      "outputs": [
        {
          "output_type": "execute_result",
          "data": {
            "text/plain": [
              "array([[0],\n",
              "       [1],\n",
              "       [1],\n",
              "       [0]])"
            ]
          },
          "metadata": {},
          "execution_count": 160
        }
      ],
      "source": [
        "outputs"
      ]
    },
    {
      "cell_type": "code",
      "execution_count": 161,
      "metadata": {
        "colab": {
          "base_uri": "https://localhost:8080/"
        },
        "id": "q5ONgSLNNiMN",
        "outputId": "80a1833d-6061-4af3-debe-a6464d8e8d3f"
      },
      "outputs": [
        {
          "output_type": "execute_result",
          "data": {
            "text/plain": [
              "array([[0.00442137],\n",
              "       [0.9931407 ],\n",
              "       [0.9942248 ],\n",
              "       [0.00549226]])"
            ]
          },
          "metadata": {},
          "execution_count": 161
        }
      ],
      "source": [
        "output_layer"
      ]
    },
    {
      "cell_type": "markdown",
      "metadata": {
        "id": "OdB4LUo2NiMN"
      },
      "source": [
        "#### * We see that our neural network was able to get values close to the actual values from the results.\n",
        "#### * This shows that our neural network can handle the complexity of the XOR operator dataset."
      ]
    },
    {
      "cell_type": "markdown",
      "metadata": {
        "id": "2aOuGGDYNiMO"
      },
      "source": [
        "* Let us see the updated weights. These are the weights we will require if we want to make future predictions"
      ]
    },
    {
      "cell_type": "code",
      "execution_count": 162,
      "metadata": {
        "colab": {
          "base_uri": "https://localhost:8080/"
        },
        "id": "XiuMIaOTNiMO",
        "outputId": "2a35652c-cbd2-40d2-a5eb-f3c86c75ec5e"
      },
      "outputs": [
        {
          "output_type": "execute_result",
          "data": {
            "text/plain": [
              "array([[-6.93256029, 11.28895378,  0.90623135],\n",
              "       [-7.54221281, -5.66420001, -1.53915633]])"
            ]
          },
          "metadata": {},
          "execution_count": 162
        }
      ],
      "source": [
        "weights_0"
      ]
    },
    {
      "cell_type": "code",
      "execution_count": 163,
      "metadata": {
        "colab": {
          "base_uri": "https://localhost:8080/"
        },
        "id": "tkKdFfSlNiMO",
        "outputId": "ae8104f1-8f61-4e34-97b7-f1bf11655a98"
      },
      "outputs": [
        {
          "output_type": "execute_result",
          "data": {
            "text/plain": [
              "array([[-24.21634181],\n",
              "       [-15.14971306],\n",
              "       [ 28.53230276]])"
            ]
          },
          "metadata": {},
          "execution_count": 163
        }
      ],
      "source": [
        "weights_1"
      ]
    },
    {
      "cell_type": "code",
      "execution_count": 164,
      "metadata": {
        "id": "lMCAnXxtNiMO"
      },
      "outputs": [],
      "source": [
        "# This function accepts an instance of a dataset\n",
        "\n",
        "def calculate_output(instance):\n",
        "    #input to hidden layer\n",
        "    hidden_layer = sigmoid(np.dot(instance, weights_0))\n",
        "    #hidden to output layer\n",
        "    output_layer = sigmoid(np.dot(hidden_layer, weights_1))\n",
        "    return output_layer[0]"
      ]
    },
    {
      "cell_type": "code",
      "execution_count": 165,
      "metadata": {
        "colab": {
          "base_uri": "https://localhost:8080/"
        },
        "id": "HUqccEIPNiMO",
        "outputId": "3148ccbc-8736-46d8-c7f1-97ffe57afb4b"
      },
      "outputs": [
        {
          "output_type": "execute_result",
          "data": {
            "text/plain": [
              "0"
            ]
          },
          "metadata": {},
          "execution_count": 165
        }
      ],
      "source": [
        "round(calculate_output(np.array([0, 0])))"
      ]
    },
    {
      "cell_type": "code",
      "execution_count": 166,
      "metadata": {
        "colab": {
          "base_uri": "https://localhost:8080/"
        },
        "id": "pUNWXHo_NiMO",
        "outputId": "1c6c97d6-7933-4fc7-dcb5-2489151b4a09"
      },
      "outputs": [
        {
          "output_type": "execute_result",
          "data": {
            "text/plain": [
              "1"
            ]
          },
          "metadata": {},
          "execution_count": 166
        }
      ],
      "source": [
        "round(calculate_output(np.array([0, 1])))"
      ]
    },
    {
      "cell_type": "code",
      "execution_count": 167,
      "metadata": {
        "colab": {
          "base_uri": "https://localhost:8080/"
        },
        "id": "145dyCiWNiMO",
        "outputId": "764efcd7-06ae-4ae4-eed6-abe6ac01652a"
      },
      "outputs": [
        {
          "output_type": "execute_result",
          "data": {
            "text/plain": [
              "1"
            ]
          },
          "metadata": {},
          "execution_count": 167
        }
      ],
      "source": [
        "round(calculate_output(np.array([1, 0])))"
      ]
    },
    {
      "cell_type": "code",
      "execution_count": 168,
      "metadata": {
        "colab": {
          "base_uri": "https://localhost:8080/"
        },
        "id": "D0xOduScNiMO",
        "outputId": "b968c444-47d3-4591-a89a-1695c3b653a0"
      },
      "outputs": [
        {
          "output_type": "execute_result",
          "data": {
            "text/plain": [
              "0"
            ]
          },
          "metadata": {},
          "execution_count": 168
        }
      ],
      "source": [
        "round(calculate_output(np.array([1, 1])))"
      ]
    },
    {
      "cell_type": "code",
      "execution_count": 168,
      "metadata": {
        "id": "PQAtdkkpNiMO"
      },
      "outputs": [],
      "source": []
    }
  ],
  "metadata": {
    "kernelspec": {
      "display_name": "Python 3",
      "language": "python",
      "name": "python3"
    },
    "language_info": {
      "codemirror_mode": {
        "name": "ipython",
        "version": 3
      },
      "file_extension": ".py",
      "mimetype": "text/x-python",
      "name": "python",
      "nbconvert_exporter": "python",
      "pygments_lexer": "ipython3",
      "version": "3.7.6"
    },
    "colab": {
      "provenance": [],
      "include_colab_link": true
    }
  },
  "nbformat": 4,
  "nbformat_minor": 0
}