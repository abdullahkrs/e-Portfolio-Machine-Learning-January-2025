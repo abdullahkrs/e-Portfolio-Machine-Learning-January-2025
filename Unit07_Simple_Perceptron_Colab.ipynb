{
  "cells": [
    {
      "cell_type": "markdown",
      "metadata": {
        "id": "view-in-github",
        "colab_type": "text"
      },
      "source": [
        "<a href=\"https://colab.research.google.com/github/abdullahkrs/e-Portfolio-Machine-Learning-January-2025/blob/main/Unit07_Simple_Perceptron_Colab.ipynb\" target=\"_parent\"><img src=\"https://colab.research.google.com/assets/colab-badge.svg\" alt=\"Open In Colab\"/></a>"
      ]
    },
    {
      "cell_type": "markdown",
      "metadata": {
        "id": "2aed91f0"
      },
      "source": [
        "\n",
        "# 🧠 Unit 7: Simple Perceptron Demonstration\n",
        "\n",
        "This notebook demonstrates a **simple perceptron model** using Python. It introduces the basic logic of a perceptron by:\n",
        "- Defining input weights and thresholds\n",
        "- Applying an activation function\n",
        "- Evaluating binary classification tasks\n",
        "\n",
        "📝 This activity supports understanding of **neural network foundations** and how perceptrons mimic decision-making processes in machine learning.\n",
        "\n",
        "---\n",
        "\n",
        "_Run this notebook step-by-step to visualize perceptron behavior._\n"
      ]
    },
    {
      "cell_type": "markdown",
      "metadata": {
        "id": "p01RKWdSHKA-"
      },
      "source": [
        "### Author: Dr Mike Lakoju, CardiffMet"
      ]
    },
    {
      "cell_type": "markdown",
      "metadata": {
        "id": "2AqiysbQHKA-"
      },
      "source": [
        "### We are re-implementing the last code. With Neural networks, most implementation uses large datasets, and it is important to write our code in a more optimized manner. We will be using Numpy Library to achieve this."
      ]
    },
    {
      "cell_type": "markdown",
      "metadata": {
        "id": "A4pTQo-oHKA-"
      },
      "source": [
        "# Import Library\n"
      ]
    },
    {
      "cell_type": "code",
      "execution_count": 1,
      "metadata": {
        "id": "dqFQOlSXHKA-"
      },
      "outputs": [],
      "source": [
        "import numpy as np"
      ]
    },
    {
      "cell_type": "markdown",
      "metadata": {
        "id": "jouEmXIgHKA_"
      },
      "source": [
        "# Lets define the Inputs and weights"
      ]
    },
    {
      "cell_type": "markdown",
      "metadata": {
        "id": "MMElRX2xHKA_"
      },
      "source": [
        "With NumPy, we work with arrays. Hence we will need to define our inputs as arrays"
      ]
    },
    {
      "cell_type": "code",
      "execution_count": 2,
      "metadata": {
        "id": "8HA1vTxQHKA_"
      },
      "outputs": [],
      "source": [
        "inputs = np.array([45, 25])"
      ]
    },
    {
      "cell_type": "code",
      "execution_count": null,
      "metadata": {
        "id": "RLbSmFPIHKA_",
        "outputId": "6fe37c40-4857-41e1-8785-0e5393fcc131"
      },
      "outputs": [
        {
          "data": {
            "text/plain": [
              "numpy.ndarray"
            ]
          },
          "execution_count": 3,
          "metadata": {},
          "output_type": "execute_result"
        }
      ],
      "source": [
        "# Check the type of the inputs\n",
        "\n",
        "type(inputs)"
      ]
    },
    {
      "cell_type": "code",
      "execution_count": 3,
      "metadata": {
        "colab": {
          "base_uri": "https://localhost:8080/"
        },
        "id": "_B2daVyRHKBA",
        "outputId": "35ba5878-a3da-4a0f-8bce-609637f14970"
      },
      "outputs": [
        {
          "output_type": "execute_result",
          "data": {
            "text/plain": [
              "np.int64(45)"
            ]
          },
          "metadata": {},
          "execution_count": 3
        }
      ],
      "source": [
        "# check the value at index position 0\n",
        "inputs[0]"
      ]
    },
    {
      "cell_type": "markdown",
      "metadata": {
        "id": "9iXXt0FHHKBA"
      },
      "source": [
        "# Lets define the weights"
      ]
    },
    {
      "cell_type": "code",
      "execution_count": 4,
      "metadata": {
        "id": "NcIdjvjQHKBA"
      },
      "outputs": [],
      "source": [
        "# creating the weights as Numpy array\n",
        "\n",
        "weights = np.array([0.7, 0.1])"
      ]
    },
    {
      "cell_type": "code",
      "execution_count": 5,
      "metadata": {
        "colab": {
          "base_uri": "https://localhost:8080/"
        },
        "id": "UCPnk4njHKBA",
        "outputId": "406a9003-ed12-4a0e-dc8e-34eb7d755aa6"
      },
      "outputs": [
        {
          "output_type": "execute_result",
          "data": {
            "text/plain": [
              "np.float64(0.7)"
            ]
          },
          "metadata": {},
          "execution_count": 5
        }
      ],
      "source": [
        "# Check the value at index 0\n",
        "\n",
        "weights[0]"
      ]
    },
    {
      "cell_type": "markdown",
      "metadata": {
        "id": "ytde3fLFHKBA"
      },
      "source": [
        "# Create the Sum Function\n"
      ]
    },
    {
      "cell_type": "markdown",
      "metadata": {
        "id": "k1PTBIajHKBA"
      },
      "source": [
        "The dot function is called the dot product from linear algebra. If you are dealing with a huge dataset, The processing difference between the for loop used in the last notebook and this dot product will significantly be different."
      ]
    },
    {
      "cell_type": "code",
      "execution_count": 6,
      "metadata": {
        "id": "gEiEqlYVHKBA"
      },
      "outputs": [],
      "source": [
        "def sum_func(inputs, weights):\n",
        "    return inputs.dot(weights)\n",
        ""
      ]
    },
    {
      "cell_type": "code",
      "execution_count": 7,
      "metadata": {
        "colab": {
          "base_uri": "https://localhost:8080/"
        },
        "id": "DnN6fWyJHKBB",
        "outputId": "af237fb2-1fce-46aa-fc42-8ef48fadf649"
      },
      "outputs": [
        {
          "output_type": "execute_result",
          "data": {
            "text/plain": [
              "np.float64(34.0)"
            ]
          },
          "metadata": {},
          "execution_count": 7
        }
      ],
      "source": [
        "# for weights = [0.7, 0.1]\n",
        "\n",
        "s_prob1 = sum_func(inputs, weights)\n",
        "s_prob1"
      ]
    },
    {
      "cell_type": "markdown",
      "metadata": {
        "id": "qUGvcfxLHKBB"
      },
      "source": [
        "# Create Step function"
      ]
    },
    {
      "cell_type": "code",
      "execution_count": 8,
      "metadata": {
        "id": "HU8gw_xqHKBB"
      },
      "outputs": [],
      "source": [
        "def step_function(sum_func):\n",
        "  if (sum_func >= 1):\n",
        "    print(f'The Sum Function is greater than or equal to 1')\n",
        "    return 1\n",
        "  else:\n",
        "        print(f'The Sum Function is NOT greater')\n",
        "        return 0"
      ]
    },
    {
      "cell_type": "markdown",
      "metadata": {
        "id": "hr9s3rfzHKBB"
      },
      "source": [
        "### Result"
      ]
    },
    {
      "cell_type": "code",
      "execution_count": 9,
      "metadata": {
        "colab": {
          "base_uri": "https://localhost:8080/"
        },
        "id": "d-2sQ2XJHKBB",
        "outputId": "6e46f56b-24ab-4789-b8ed-96d93d6e03a6"
      },
      "outputs": [
        {
          "output_type": "stream",
          "name": "stdout",
          "text": [
            "The Sum Function is greater than or equal to 1\n"
          ]
        },
        {
          "output_type": "execute_result",
          "data": {
            "text/plain": [
              "1"
            ]
          },
          "metadata": {},
          "execution_count": 9
        }
      ],
      "source": [
        "step_function(s_prob1 )"
      ]
    },
    {
      "cell_type": "markdown",
      "metadata": {
        "id": "soR7WOz2HKBB"
      },
      "source": [
        " ## If the is weights = [- 0.7, 0.1]"
      ]
    },
    {
      "cell_type": "code",
      "execution_count": 10,
      "metadata": {
        "id": "274KvxMUHKBC"
      },
      "outputs": [],
      "source": [
        "weights = [-0.7, 0.1]"
      ]
    },
    {
      "cell_type": "code",
      "execution_count": 11,
      "metadata": {
        "colab": {
          "base_uri": "https://localhost:8080/"
        },
        "id": "lVajD8wXHKBC",
        "outputId": "10fef9ff-9960-498e-d505-5d61724c0fba"
      },
      "outputs": [
        {
          "output_type": "execute_result",
          "data": {
            "text/plain": [
              "np.float64(-29.0)"
            ]
          },
          "metadata": {},
          "execution_count": 11
        }
      ],
      "source": [
        "# for weights = [- 0.7, 0.1]\n",
        "\n",
        "s_prob2 = sum_func(inputs, weights)\n",
        "\n",
        "round(s_prob2, 2)  #round to 2 decimal places"
      ]
    },
    {
      "cell_type": "markdown",
      "metadata": {
        "id": "HsYnz1F2HKBC"
      },
      "source": [
        "### Result"
      ]
    },
    {
      "cell_type": "code",
      "execution_count": 12,
      "metadata": {
        "colab": {
          "base_uri": "https://localhost:8080/"
        },
        "id": "gnnZ6pb_HKBC",
        "outputId": "d170e876-2ca7-4924-e7b4-9618380e74dd"
      },
      "outputs": [
        {
          "output_type": "stream",
          "name": "stdout",
          "text": [
            "The Sum Function is NOT greater\n"
          ]
        },
        {
          "output_type": "execute_result",
          "data": {
            "text/plain": [
              "0"
            ]
          },
          "metadata": {},
          "execution_count": 12
        }
      ],
      "source": [
        "step_function(s_prob2 )"
      ]
    },
    {
      "cell_type": "markdown",
      "metadata": {
        "id": "0x53c4prHKBC"
      },
      "source": [
        "### By changing the input values and weights observe different results"
      ]
    },
    {
      "cell_type": "code",
      "execution_count": 12,
      "metadata": {
        "id": "c0qIoXQKHKBC"
      },
      "outputs": [],
      "source": []
    }
  ],
  "metadata": {
    "kernelspec": {
      "display_name": "Python 3",
      "language": "python",
      "name": "python3"
    },
    "language_info": {
      "codemirror_mode": {
        "name": "ipython",
        "version": 3
      },
      "file_extension": ".py",
      "mimetype": "text/x-python",
      "name": "python",
      "nbconvert_exporter": "python",
      "pygments_lexer": "ipython3",
      "version": "3.7.6"
    },
    "colab": {
      "provenance": [],
      "include_colab_link": true
    }
  },
  "nbformat": 4,
  "nbformat_minor": 0
}