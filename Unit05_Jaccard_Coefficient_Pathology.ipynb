{
  "cells": [
    {
      "cell_type": "markdown",
      "metadata": {
        "id": "view-in-github",
        "colab_type": "text"
      },
      "source": [
        "<a href=\"https://colab.research.google.com/github/abdullahkrs/e-Portfolio-Machine-Learning-January-2025/blob/main/Jaccard_Coefficient_Pathology.ipynb\" target=\"_parent\"><img src=\"https://colab.research.google.com/assets/colab-badge.svg\" alt=\"Open In Colab\"/></a>"
      ]
    },
    {
      "cell_type": "markdown",
      "id": "f3e68a1e",
      "metadata": {
        "id": "f3e68a1e"
      },
      "source": [
        "\n",
        "# 🤝 Jaccard Coefficient Calculations – Pathological Test Results\n",
        "\n",
        "This notebook calculates the **Jaccard Coefficient** between pairs of individuals based on their symptom and test results.\n",
        "\n",
        "## 📘 Input Table\n",
        "\n",
        "| Name | Gender | Fever | Cough | Test-1 | Test-2 | Test-3 | Test-4 |\n",
        "|------|--------|-------|-------|--------|--------|--------|--------|\n",
        "| Jack | M      | Y     | N     | P      | N      | N      | A      |\n",
        "| Mary | F      | Y     | N     | P      | A      | P      | N      |\n",
        "| Jim  | M      | Y     | P     | N      | N      | N      | A      |\n",
        "\n",
        "- **Y / P = 1** (Positive/Yes)\n",
        "- **N = 0** (Negative/No)\n",
        "- **A = Missing → Ignored**\n",
        "\n",
        "---\n"
      ]
    },
    {
      "cell_type": "code",
      "execution_count": 1,
      "id": "654e1e8b",
      "metadata": {
        "id": "654e1e8b",
        "outputId": "5346a291-07a2-4e66-e2d2-adbf2c2e5281",
        "colab": {
          "base_uri": "https://localhost:8080/"
        }
      },
      "outputs": [
        {
          "output_type": "stream",
          "name": "stdout",
          "text": [
            "Jaccard Coefficient (Jack, Mary): 0.667\n",
            "Jaccard Coefficient (Jack, Jim): 0.333\n",
            "Jaccard Coefficient (Jim, Mary): 0.250\n"
          ]
        }
      ],
      "source": [
        "\n",
        "# Define binary encodings\n",
        "jack = {'Fever': 1, 'Cough': 0, 'Test-1': 1, 'Test-2': 0, 'Test-3': 0}\n",
        "mary = {'Fever': 1, 'Cough': 0, 'Test-1': 1, 'Test-2': None, 'Test-3': 1, 'Test-4': 0}\n",
        "jim  = {'Fever': 1, 'Cough': 1, 'Test-1': 0, 'Test-2': 0, 'Test-3': 0}\n",
        "\n",
        "# Function to calculate Jaccard Coefficient\n",
        "def jaccard(dict1, dict2):\n",
        "    intersect = 0\n",
        "    union = 0\n",
        "    for key in dict1:\n",
        "        if key in dict2 and dict1[key] is not None and dict2[key] is not None:\n",
        "            if dict1[key] == 1 and dict2[key] == 1:\n",
        "                intersect += 1\n",
        "            if dict1[key] == 1 or dict2[key] == 1:\n",
        "                union += 1\n",
        "    return intersect / union if union > 0 else 0\n",
        "\n",
        "# Calculate coefficients\n",
        "jm = jaccard(jack, mary)\n",
        "jj = jaccard(jack, jim)\n",
        "mj = jaccard(jim, mary)\n",
        "\n",
        "# Display results\n",
        "print(f\"Jaccard Coefficient (Jack, Mary): {jm:.3f}\")\n",
        "print(f\"Jaccard Coefficient (Jack, Jim): {jj:.3f}\")\n",
        "print(f\"Jaccard Coefficient (Jim, Mary): {mj:.3f}\")\n"
      ]
    },
    {
      "cell_type": "markdown",
      "id": "747c98e0",
      "metadata": {
        "id": "747c98e0"
      },
      "source": [
        "\n",
        "## ✅ Results\n",
        "\n",
        "| Pair         | Jaccard Coefficient |\n",
        "|--------------|---------------------|\n",
        "| Jack & Mary  | **0.667**           |\n",
        "| Jack & Jim   | **0.333**           |\n",
        "| Jim & Mary   | **0.250**           |\n",
        "\n",
        "These results show how similar the patients are based on their symptoms and test results. Higher values indicate more similarity based on shared positive attributes.\n",
        "\n",
        "---\n"
      ]
    }
  ],
  "metadata": {
    "colab": {
      "provenance": [],
      "include_colab_link": true
    },
    "language_info": {
      "name": "python"
    },
    "kernelspec": {
      "name": "python3",
      "display_name": "Python 3"
    }
  },
  "nbformat": 4,
  "nbformat_minor": 5
}
