{
  "cells": [
    {
      "cell_type": "markdown",
      "metadata": {
        "id": "view-in-github",
        "colab_type": "text"
      },
      "source": [
        "<a href=\"https://colab.research.google.com/github/abdullahkrs/e-Portfolio-Machine-Learning-January-2025/blob/main/Unit07_Perceptron_AND_Operator.ipynb\" target=\"_parent\"><img src=\"https://colab.research.google.com/assets/colab-badge.svg\" alt=\"Open In Colab\"/></a>"
      ]
    },
    {
      "cell_type": "markdown",
      "metadata": {
        "id": "76da7e5d"
      },
      "source": [
        "\n",
        "# 🔢 Unit 7: Perceptron for AND Operator\n",
        "\n",
        "This notebook implements a **single-layer perceptron** to simulate the logical AND operation.\n",
        "\n",
        "## ✔️ Objective\n",
        "Train a perceptron model to:\n",
        "- Learn the logical behavior of the AND operator\n",
        "- Accept two binary inputs (0 or 1)\n",
        "- Produce 1 only if both inputs are 1\n",
        "\n",
        "## 💡 Learning Outcome\n",
        "This simple use case helps build intuition for how a perceptron can **learn and generalize logic gates**.\n",
        "\n",
        "---\n",
        "\n",
        "_Run each cell to visualize training and prediction results._\n"
      ]
    },
    {
      "cell_type": "markdown",
      "metadata": {
        "id": "OdhXUsrePLUV"
      },
      "source": [
        "### Author: Dr Mike Lakoju, CardiffMet"
      ]
    },
    {
      "cell_type": "markdown",
      "metadata": {
        "id": "pYbyxyIuPLUV"
      },
      "source": []
    },
    {
      "cell_type": "markdown",
      "metadata": {
        "id": "YXmecr-kPLUV"
      },
      "source": [
        "### Import Library"
      ]
    },
    {
      "cell_type": "code",
      "execution_count": 1,
      "metadata": {
        "id": "v9Fnoie0PLUV"
      },
      "outputs": [],
      "source": [
        "import numpy as np"
      ]
    },
    {
      "cell_type": "markdown",
      "metadata": {
        "id": "WJ2Ijx1UPLUW"
      },
      "source": [
        "### Define \"Inputs, outputs and weights\" as Numpy arrays"
      ]
    },
    {
      "cell_type": "markdown",
      "metadata": {
        "id": "IadQTRYwPLUW"
      },
      "source": [
        "#### Inputs"
      ]
    },
    {
      "cell_type": "code",
      "execution_count": 2,
      "metadata": {
        "id": "kLAwyKcwPLUW"
      },
      "outputs": [],
      "source": [
        "# Creating input values as a matrix not as a vector\n",
        "inputs = np.array([[0,0], [0,1], [1,0], [1,1]])"
      ]
    },
    {
      "cell_type": "code",
      "execution_count": 3,
      "metadata": {
        "colab": {
          "base_uri": "https://localhost:8080/"
        },
        "id": "cl6H72bBPLUW",
        "outputId": "490145f7-1a53-4d5f-b704-b433b716eefc"
      },
      "outputs": [
        {
          "output_type": "execute_result",
          "data": {
            "text/plain": [
              "(4, 2)"
            ]
          },
          "metadata": {},
          "execution_count": 3
        }
      ],
      "source": [
        "# Chcking the shape of the inputs\n",
        "\n",
        "inputs.shape"
      ]
    },
    {
      "cell_type": "markdown",
      "metadata": {
        "id": "SB1WzvzRPLUX"
      },
      "source": [
        "#### Outputs"
      ]
    },
    {
      "cell_type": "code",
      "execution_count": 4,
      "metadata": {
        "id": "Yac2F9zmPLUX"
      },
      "outputs": [],
      "source": [
        "outputs = np.array([0, 0, 0, 1])"
      ]
    },
    {
      "cell_type": "code",
      "execution_count": 5,
      "metadata": {
        "colab": {
          "base_uri": "https://localhost:8080/"
        },
        "id": "huucxCGsPLUX",
        "outputId": "9b001448-36ab-45ae-ab92-ce647133fe89"
      },
      "outputs": [
        {
          "output_type": "execute_result",
          "data": {
            "text/plain": [
              "(4,)"
            ]
          },
          "metadata": {},
          "execution_count": 5
        }
      ],
      "source": [
        "#Checking the shape of the outputs\n",
        "\n",
        "outputs.shape"
      ]
    },
    {
      "cell_type": "markdown",
      "metadata": {
        "id": "yj4SrOIUPLUX"
      },
      "source": [
        "#### Weights"
      ]
    },
    {
      "cell_type": "code",
      "execution_count": 6,
      "metadata": {
        "id": "fijgABu7PLUX"
      },
      "outputs": [],
      "source": [
        "# one weight for x1 and one for x2\n",
        "weights = np.array([0.0, 0.0])"
      ]
    },
    {
      "cell_type": "markdown",
      "metadata": {
        "id": "ngidXUUuPLUX"
      },
      "source": [
        "#### Learning Rate"
      ]
    },
    {
      "cell_type": "code",
      "execution_count": 7,
      "metadata": {
        "id": "PhHvb29GPLUX"
      },
      "outputs": [],
      "source": [
        "learning_rate = 0.1"
      ]
    },
    {
      "cell_type": "markdown",
      "metadata": {
        "id": "pY4fFqwTPLUY"
      },
      "source": [
        "## Step function"
      ]
    },
    {
      "cell_type": "code",
      "execution_count": 8,
      "metadata": {
        "id": "MhxOkh-3PLUY"
      },
      "outputs": [],
      "source": [
        "# This is our Activation function\n",
        "\n",
        "def step_function(sum):\n",
        "  if (sum >= 1):\n",
        "    #print(f'The Sum of Weights is Greater or equal to 1')\n",
        "    return 1\n",
        "  else:\n",
        "        #print(f'The Sum of Weights is NOT > or = to 1')\n",
        "        return 0"
      ]
    },
    {
      "cell_type": "markdown",
      "metadata": {
        "id": "PcFPLjEkPLUY"
      },
      "source": [
        "## Process Output"
      ]
    },
    {
      "cell_type": "markdown",
      "metadata": {
        "id": "2JbM8LMwPLUY"
      },
      "source": [
        "<b>We define a function that allows us to calculate/ process the output. The function accepts an instance of our data, then calculate the sum function using Numpy. Finally, we check the output by passing it through the \"Step Function.\"</b>"
      ]
    },
    {
      "cell_type": "code",
      "execution_count": 9,
      "metadata": {
        "id": "4m5nhmsQPLUY"
      },
      "outputs": [],
      "source": [
        "def cal_output(instance):\n",
        "  sum_func = instance.dot(weights)\n",
        "  return step_function(sum_func)"
      ]
    },
    {
      "cell_type": "markdown",
      "metadata": {
        "id": "3bOzs_nIPLUY"
      },
      "source": [
        "We pass it as alist in a numpy array ..."
      ]
    },
    {
      "cell_type": "code",
      "execution_count": 10,
      "metadata": {
        "colab": {
          "base_uri": "https://localhost:8080/"
        },
        "id": "kU11ZhMNPLUY",
        "outputId": "025324f3-7e5c-4f23-c284-b257d8749ef1"
      },
      "outputs": [
        {
          "output_type": "execute_result",
          "data": {
            "text/plain": [
              "0"
            ]
          },
          "metadata": {},
          "execution_count": 10
        }
      ],
      "source": [
        "cal_output(np.array([[1,1]]))"
      ]
    },
    {
      "cell_type": "markdown",
      "metadata": {
        "id": "SzmlJc_sPLUY"
      },
      "source": [
        "## Train"
      ]
    },
    {
      "cell_type": "code",
      "execution_count": 11,
      "metadata": {
        "colab": {
          "base_uri": "https://localhost:8080/"
        },
        "id": "XoK05GJDPLUY",
        "outputId": "266b4b45-cb2b-499a-d95a-78ab58cad6d5"
      },
      "outputs": [
        {
          "output_type": "execute_result",
          "data": {
            "text/plain": [
              "4"
            ]
          },
          "metadata": {},
          "execution_count": 11
        }
      ],
      "source": [
        "# Check the number of outputs\n",
        "\n",
        "len(outputs)"
      ]
    },
    {
      "cell_type": "code",
      "execution_count": 12,
      "metadata": {
        "colab": {
          "base_uri": "https://localhost:8080/"
        },
        "id": "lxxGCaHMPLUZ",
        "outputId": "8eb4a36d-7230-43a3-b1f5-dc132049bf80"
      },
      "outputs": [
        {
          "output_type": "execute_result",
          "data": {
            "text/plain": [
              "array([1, 1])"
            ]
          },
          "metadata": {},
          "execution_count": 12
        }
      ],
      "source": [
        "# Checking the index of the input at postion 3 ..\n",
        "# this is the last inpute value\n",
        "inputs[3]"
      ]
    },
    {
      "cell_type": "code",
      "execution_count": 13,
      "metadata": {
        "colab": {
          "base_uri": "https://localhost:8080/"
        },
        "id": "GQpcd7OpPLUZ",
        "outputId": "c8adefa3-8d0d-48e5-8793-f8afadad39c4"
      },
      "outputs": [
        {
          "output_type": "execute_result",
          "data": {
            "text/plain": [
              "array([[0, 0],\n",
              "       [0, 1],\n",
              "       [1, 0],\n",
              "       [1, 1]])"
            ]
          },
          "metadata": {},
          "execution_count": 13
        }
      ],
      "source": [
        "inputs"
      ]
    },
    {
      "cell_type": "markdown",
      "metadata": {
        "id": "Pbn2FJj-PLUZ"
      },
      "source": [
        "<b>Note that:</b> usually, we will need to define the number of epochs, because we will never really get a value of zero when dealing with real-world data. However, for this small data, we will run the loop till we obtain zero error"
      ]
    },
    {
      "cell_type": "code",
      "execution_count": 14,
      "metadata": {
        "id": "0B6yCnJhPLUZ"
      },
      "outputs": [],
      "source": [
        "def train():\n",
        "    #\n",
        "    total_error_value = 1\n",
        "    # While the total_error_value is not equal to zero. we are asumming that at the start of running our network there will be no zero\n",
        "    while (total_error_value != 0):\n",
        "        #making the total_error 0 so we can do other calculations\n",
        "        total_error_value = 0\n",
        "        #Looping into each row of the dataset (remember indexing in python starts at zero hence 0-3 which are 4 values)\n",
        "        for i in range(len(outputs)):\n",
        "            #Calculating predictions\n",
        "            prediction = cal_output(inputs[i])\n",
        "            # Calculating the absolute value of the error\n",
        "            error = abs(outputs[i] - prediction)\n",
        "            #Updating the error\n",
        "            total_error_value  += error\n",
        "\n",
        "            if error > 0:\n",
        "                for j in range(len(weights)):\n",
        "                    #updating the weights for x1 and x2\n",
        "                    weights[j] = weights[j] + (learning_rate * inputs[i][j] * error)\n",
        "                    print('Weight updated to: ' + str(weights[j]))\n",
        "        print('Total error Value: ' + str(total_error_value))"
      ]
    },
    {
      "cell_type": "code",
      "execution_count": 15,
      "metadata": {
        "colab": {
          "base_uri": "https://localhost:8080/"
        },
        "id": "zXCaDPOcPLUZ",
        "outputId": "464fe9c5-76ad-4165-8e46-cbd0fc4a9dcb"
      },
      "outputs": [
        {
          "output_type": "stream",
          "name": "stdout",
          "text": [
            "Weight updated to: 0.1\n",
            "Weight updated to: 0.1\n",
            "Total error Value: 1\n",
            "Weight updated to: 0.2\n",
            "Weight updated to: 0.2\n",
            "Total error Value: 1\n",
            "Weight updated to: 0.30000000000000004\n",
            "Weight updated to: 0.30000000000000004\n",
            "Total error Value: 1\n",
            "Weight updated to: 0.4\n",
            "Weight updated to: 0.4\n",
            "Total error Value: 1\n",
            "Weight updated to: 0.5\n",
            "Weight updated to: 0.5\n",
            "Total error Value: 1\n",
            "Total error Value: 0\n"
          ]
        }
      ],
      "source": [
        "train()"
      ]
    },
    {
      "cell_type": "markdown",
      "metadata": {
        "id": "nZOxhf8iPLUa"
      },
      "source": [
        "## Classification"
      ]
    },
    {
      "cell_type": "code",
      "execution_count": 16,
      "metadata": {
        "colab": {
          "base_uri": "https://localhost:8080/"
        },
        "id": "DQU1XDjKPLUa",
        "outputId": "5f3aa42d-2a98-4fae-9d31-34af7451d2c6"
      },
      "outputs": [
        {
          "output_type": "execute_result",
          "data": {
            "text/plain": [
              "array([0.5, 0.5])"
            ]
          },
          "metadata": {},
          "execution_count": 16
        }
      ],
      "source": [
        "# Now we have the final weights that will be used to classify new instances of the data after training.\n",
        "\n",
        "weights"
      ]
    },
    {
      "cell_type": "code",
      "execution_count": 17,
      "metadata": {
        "colab": {
          "base_uri": "https://localhost:8080/"
        },
        "id": "rJH49a34PLUa",
        "outputId": "a96bc370-1d66-469e-cc9d-ff1208d04d25"
      },
      "outputs": [
        {
          "output_type": "execute_result",
          "data": {
            "text/plain": [
              "0"
            ]
          },
          "metadata": {},
          "execution_count": 17
        }
      ],
      "source": [
        "cal_output(np.array([0,0]))"
      ]
    },
    {
      "cell_type": "code",
      "execution_count": 18,
      "metadata": {
        "colab": {
          "base_uri": "https://localhost:8080/"
        },
        "id": "ObyuK6tUPLUa",
        "outputId": "22204d61-a70c-413a-cf0d-c60f1489af04"
      },
      "outputs": [
        {
          "output_type": "execute_result",
          "data": {
            "text/plain": [
              "0"
            ]
          },
          "metadata": {},
          "execution_count": 18
        }
      ],
      "source": [
        "cal_output(np.array([0,1]))"
      ]
    },
    {
      "cell_type": "code",
      "execution_count": 19,
      "metadata": {
        "colab": {
          "base_uri": "https://localhost:8080/"
        },
        "id": "59WFfk7SPLUa",
        "outputId": "3926a767-5b22-4f35-ebfc-fe06619f79be"
      },
      "outputs": [
        {
          "output_type": "execute_result",
          "data": {
            "text/plain": [
              "0"
            ]
          },
          "metadata": {},
          "execution_count": 19
        }
      ],
      "source": [
        "cal_output(np.array([1,0]))"
      ]
    },
    {
      "cell_type": "code",
      "execution_count": 20,
      "metadata": {
        "colab": {
          "base_uri": "https://localhost:8080/"
        },
        "id": "iMPVOyKiPLUa",
        "outputId": "8375bc89-fef8-4bee-f52c-402d987083c4"
      },
      "outputs": [
        {
          "output_type": "execute_result",
          "data": {
            "text/plain": [
              "1"
            ]
          },
          "metadata": {},
          "execution_count": 20
        }
      ],
      "source": [
        "cal_output(np.array([1,1]))"
      ]
    }
  ],
  "metadata": {
    "kernelspec": {
      "display_name": "Python 3",
      "language": "python",
      "name": "python3"
    },
    "language_info": {
      "codemirror_mode": {
        "name": "ipython",
        "version": 3
      },
      "file_extension": ".py",
      "mimetype": "text/x-python",
      "name": "python",
      "nbconvert_exporter": "python",
      "pygments_lexer": "ipython3",
      "version": "3.7.6"
    },
    "colab": {
      "provenance": [],
      "include_colab_link": true
    }
  },
  "nbformat": 4,
  "nbformat_minor": 0
}