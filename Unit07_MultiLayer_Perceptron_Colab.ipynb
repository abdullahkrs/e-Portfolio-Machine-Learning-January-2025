{
  "cells": [
    {
      "cell_type": "markdown",
      "metadata": {
        "id": "view-in-github",
        "colab_type": "text"
      },
      "source": [
        "<a href=\"https://colab.research.google.com/github/abdullahkrs/e-Portfolio-Machine-Learning-January-2025/blob/main/Unit07_MultiLayer_Perceptron_Colab.ipynb\" target=\"_parent\"><img src=\"https://colab.research.google.com/assets/colab-badge.svg\" alt=\"Open In Colab\"/></a>"
      ]
    },
    {
      "cell_type": "markdown",
      "metadata": {
        "id": "34d5cdd1"
      },
      "source": [
        "\n",
        "# 🧠 Unit 7: Multi-Layer Perceptron with Sigmoid Activation\n",
        "\n",
        "This notebook demonstrates a **Multi-Layer Perceptron (MLP)** using the **Sigmoid activation function**.\n",
        "\n",
        "## ✔️ Objective\n",
        "- Understand how a neural network with hidden layers behaves\n",
        "- Use the **sigmoid function** to introduce non-linearity\n",
        "- Visualize how outputs are transformed at each layer\n",
        "\n",
        "## 🔁 What You'll Learn\n",
        "- The importance of **activation functions** in deep learning\n",
        "- How data flows and transforms across multiple layers\n",
        "- How sigmoid output constrains values between 0 and 1\n",
        "\n",
        "---\n",
        "\n",
        "_Run each cell to explore how a basic MLP works._\n"
      ]
    },
    {
      "cell_type": "markdown",
      "metadata": {
        "id": "2pI8iiEwIzed"
      },
      "source": [
        "### Author: Dr Mike Lakoju"
      ]
    },
    {
      "cell_type": "markdown",
      "metadata": {
        "id": "0HtmTSnEIzed"
      },
      "source": [
        "    * If X is high, the value is approximately 1\n",
        "    * if X is small, the value is approximately 0"
      ]
    },
    {
      "cell_type": "markdown",
      "metadata": {
        "id": "lHmtP-1mIzee"
      },
      "source": [
        "## Import Libraries"
      ]
    },
    {
      "cell_type": "code",
      "execution_count": 91,
      "metadata": {
        "id": "N9DRgl-pIzee"
      },
      "outputs": [],
      "source": [
        "import numpy as np"
      ]
    },
    {
      "cell_type": "markdown",
      "metadata": {
        "id": "5hxVa7rKIzee"
      },
      "source": [
        "## Define the Sigmoid Function"
      ]
    },
    {
      "cell_type": "code",
      "execution_count": 92,
      "metadata": {
        "id": "x0pU08mnIzee"
      },
      "outputs": [],
      "source": [
        "def sigmoid(sum_func):\n",
        "  return 1 / (1 + np.exp(-sum_func))"
      ]
    },
    {
      "cell_type": "code",
      "execution_count": 93,
      "metadata": {
        "colab": {
          "base_uri": "https://localhost:8080/"
        },
        "id": "J-74adARIzef",
        "outputId": "e80d3611-1c86-41ef-bbd7-5a9ff0be09e2"
      },
      "outputs": [
        {
          "output_type": "execute_result",
          "data": {
            "text/plain": [
              "np.float64(0.5)"
            ]
          },
          "metadata": {},
          "execution_count": 93
        }
      ],
      "source": [
        "sigmoid(0)"
      ]
    },
    {
      "cell_type": "code",
      "execution_count": 94,
      "metadata": {
        "colab": {
          "base_uri": "https://localhost:8080/"
        },
        "id": "jmYAzBeDIzef",
        "outputId": "db3ea985-73f7-4f41-e7c2-7ee52e634616"
      },
      "outputs": [
        {
          "output_type": "execute_result",
          "data": {
            "text/plain": [
              "np.float64(7.38905609893065)"
            ]
          },
          "metadata": {},
          "execution_count": 94
        }
      ],
      "source": [
        "np.exp(2)"
      ]
    },
    {
      "cell_type": "code",
      "execution_count": 95,
      "metadata": {
        "colab": {
          "base_uri": "https://localhost:8080/"
        },
        "id": "ASp9VVxvIzef",
        "outputId": "65672128-eca3-4164-dcc9-6c60d9351e47"
      },
      "outputs": [
        {
          "output_type": "execute_result",
          "data": {
            "text/plain": [
              "np.float64(2.718281828459045)"
            ]
          },
          "metadata": {},
          "execution_count": 95
        }
      ],
      "source": [
        "np.exp(1)"
      ]
    },
    {
      "cell_type": "code",
      "execution_count": 96,
      "metadata": {
        "colab": {
          "base_uri": "https://localhost:8080/"
        },
        "id": "z8Q5FqSnIzef",
        "outputId": "47b1e150-2f72-41c1-e20f-a35811d91928"
      },
      "outputs": [
        {
          "output_type": "execute_result",
          "data": {
            "text/plain": [
              "np.float64(1.0)"
            ]
          },
          "metadata": {},
          "execution_count": 96
        }
      ],
      "source": [
        "sigmoid(40)"
      ]
    },
    {
      "cell_type": "code",
      "execution_count": 97,
      "metadata": {
        "colab": {
          "base_uri": "https://localhost:8080/"
        },
        "id": "YwggydpvIzeg",
        "outputId": "4b23f405-5c23-45c6-c0a3-35e818950270"
      },
      "outputs": [
        {
          "output_type": "execute_result",
          "data": {
            "text/plain": [
              "np.float64(1.2501528648238605e-09)"
            ]
          },
          "metadata": {},
          "execution_count": 97
        }
      ],
      "source": [
        "sigmoid(-20.5)"
      ]
    },
    {
      "cell_type": "markdown",
      "metadata": {
        "id": "hGZ0eJ2qIzeg"
      },
      "source": [
        "# Input Layer to Hidden Layer"
      ]
    },
    {
      "cell_type": "markdown",
      "metadata": {
        "id": "D4Gzr2YVIzeg"
      },
      "source": [
        "### Define \"Inputs, outputs and weights\" as Numpy arrays"
      ]
    },
    {
      "cell_type": "markdown",
      "metadata": {
        "id": "9eE5ESbVIzeg"
      },
      "source": [
        "#### Inputs"
      ]
    },
    {
      "cell_type": "code",
      "execution_count": 98,
      "metadata": {
        "id": "c2y0GfdBIzeg"
      },
      "outputs": [],
      "source": [
        "inputs = np.array([[0,0],\n",
        "                   [0,1],\n",
        "                   [1,0],\n",
        "                   [1,1]])"
      ]
    },
    {
      "cell_type": "code",
      "execution_count": 99,
      "metadata": {
        "colab": {
          "base_uri": "https://localhost:8080/"
        },
        "id": "WXPf3YUNIzeg",
        "outputId": "321695e7-d11b-4aa5-990a-2f3a2a1d0273"
      },
      "outputs": [
        {
          "output_type": "execute_result",
          "data": {
            "text/plain": [
              "array([[0, 0],\n",
              "       [0, 1],\n",
              "       [1, 0],\n",
              "       [1, 1]])"
            ]
          },
          "metadata": {},
          "execution_count": 99
        }
      ],
      "source": [
        "inputs"
      ]
    },
    {
      "cell_type": "code",
      "execution_count": 100,
      "metadata": {
        "colab": {
          "base_uri": "https://localhost:8080/"
        },
        "id": "C4tNi0GhIzeg",
        "outputId": "0ab7f9f3-1c49-4ef4-a092-4980aba0d852"
      },
      "outputs": [
        {
          "output_type": "execute_result",
          "data": {
            "text/plain": [
              "(4, 2)"
            ]
          },
          "metadata": {},
          "execution_count": 100
        }
      ],
      "source": [
        "inputs.shape"
      ]
    },
    {
      "cell_type": "markdown",
      "metadata": {
        "id": "ZT8IPIEQIzeh"
      },
      "source": [
        "#### Outputs"
      ]
    },
    {
      "cell_type": "code",
      "execution_count": 101,
      "metadata": {
        "id": "oz0RRV2TIzeh"
      },
      "outputs": [],
      "source": [
        "outputs = np.array([[0],\n",
        "                    [1],\n",
        "                    [1],\n",
        "                    [0]])"
      ]
    },
    {
      "cell_type": "code",
      "execution_count": 102,
      "metadata": {
        "colab": {
          "base_uri": "https://localhost:8080/"
        },
        "id": "Euq7WgtpIzeh",
        "outputId": "9042db5d-614e-452d-d519-834cda5d7b1d"
      },
      "outputs": [
        {
          "output_type": "execute_result",
          "data": {
            "text/plain": [
              "(4, 1)"
            ]
          },
          "metadata": {},
          "execution_count": 102
        }
      ],
      "source": [
        "outputs.shape"
      ]
    },
    {
      "cell_type": "markdown",
      "metadata": {
        "id": "SQdl3rsGIzeh"
      },
      "source": [
        "### Weights"
      ]
    },
    {
      "cell_type": "markdown",
      "metadata": {
        "id": "9uI1JipUIzeh"
      },
      "source": [
        "#### These weights are for the connection between the inputs and the hidden layer"
      ]
    },
    {
      "cell_type": "code",
      "execution_count": 103,
      "metadata": {
        "colab": {
          "base_uri": "https://localhost:8080/"
        },
        "id": "lOpSBFTKIzeh",
        "outputId": "db507eba-4a12-4854-e673-c9bef3a47a42"
      },
      "outputs": [
        {
          "output_type": "execute_result",
          "data": {
            "text/plain": [
              "(2, 3)"
            ]
          },
          "metadata": {},
          "execution_count": 103
        }
      ],
      "source": [
        "# First row holds the weights for x1, 2nd row contains the weights for x2\n",
        "\n",
        "weights_0 = np.array([[-0.424, -0.740, -0.961],\n",
        "                     [0.358, -0.577, -0.469]])\n",
        "weights_0.shape"
      ]
    },
    {
      "cell_type": "markdown",
      "metadata": {
        "id": "Bpj2ln6XIzeh"
      },
      "source": [
        "#### These weights are for the connection between the  hidden layer and the output"
      ]
    },
    {
      "cell_type": "code",
      "execution_count": 104,
      "metadata": {
        "colab": {
          "base_uri": "https://localhost:8080/"
        },
        "id": "iBpjNACWIzeh",
        "outputId": "8d0d15d6-839a-489a-a523-8a65e459ca19"
      },
      "outputs": [
        {
          "output_type": "execute_result",
          "data": {
            "text/plain": [
              "(3, 1)"
            ]
          },
          "metadata": {},
          "execution_count": 104
        }
      ],
      "source": [
        "weights_1 = np.array([[-0.017],\n",
        "                     [-0.893],\n",
        "                     [0.148]])\n",
        "weights_1.shape"
      ]
    },
    {
      "cell_type": "markdown",
      "metadata": {
        "id": "WySyPaNIIzei"
      },
      "source": [
        "#### Epochs & Learning Rate"
      ]
    },
    {
      "cell_type": "code",
      "execution_count": 105,
      "metadata": {
        "id": "nB9_v_i8Izei"
      },
      "outputs": [],
      "source": [
        "epochs = 100\n",
        "learning_rate = 0.3"
      ]
    },
    {
      "cell_type": "code",
      "execution_count": 106,
      "metadata": {
        "id": "BlktDEITIzei"
      },
      "outputs": [],
      "source": [
        "#for epoch in epochs:"
      ]
    },
    {
      "cell_type": "markdown",
      "metadata": {
        "id": "mtTGwcJNIzei"
      },
      "source": [
        "Dealing with the first side\n",
      ]
    },
    {
      "cell_type": "code",
      "execution_count": 107,
      "metadata": {
        "colab": {
          "base_uri": "https://localhost:8080/"
        },
        "id": "oozo4_zsIzei",
        "outputId": "8a589551-9734-4ad5-afcc-5cde65556c82"
      },
      "outputs": [
        {
          "output_type": "execute_result",
          "data": {
            "text/plain": [
              "array([[0, 0],\n",
              "       [0, 1],\n",
              "       [1, 0],\n",
              "       [1, 1]])"
            ]
          },
          "metadata": {},
          "execution_count": 107
        }
      ],
      "source": [
        "input_layer = inputs\n",
        "input_layer"
      ]
    },
    {
      "cell_type": "code",
      "execution_count": 108,
      "metadata": {
        "colab": {
          "base_uri": "https://localhost:8080/"
        },
        "id": "tjpgPKRIIzei",
        "outputId": "8847fa0f-5228-4029-add3-63be47744672"
      },
      "outputs": [
        {
          "output_type": "execute_result",
          "data": {
            "text/plain": [
              "array([[ 0.   ,  0.   ,  0.   ],\n",
              "       [ 0.358, -0.577, -0.469],\n",
              "       [-0.424, -0.74 , -0.961],\n",
              "       [-0.066, -1.317, -1.43 ]])"
            ]
          },
          "metadata": {},
          "execution_count": 108
        }
      ],
      "source": [
        "# \"sum_synapse_0\" This holds the sum function total of weights for the hidden layer\n",
        "# For the Output: Each row holds the sum_func for each input data  [0,0,0 -> data 0,0],[0.358, -0.577, -0.469 --> 0,1]\n",
        "# The dot product does the matrix multiplication and also the sum\n",
        "\n",
        "sum_synapse_0 = np.dot(input_layer, weights_0)\n",
        "sum_synapse_0"
      ]
    },
    {
      "cell_type": "code",
      "execution_count": 109,
      "metadata": {
        "colab": {
          "base_uri": "https://localhost:8080/"
        },
        "id": "jIFa1CukIzei",
        "outputId": "637a2ee3-01b3-42dc-ba3a-12aa294d946c"
      },
      "outputs": [
        {
          "output_type": "execute_result",
          "data": {
            "text/plain": [
              "array([[0.5       , 0.5       , 0.5       ],\n",
              "       [0.5885562 , 0.35962319, 0.38485296],\n",
              "       [0.39555998, 0.32300414, 0.27667802],\n",
              "       [0.48350599, 0.21131785, 0.19309868]])"
            ]
          },
          "metadata": {},
          "execution_count": 109
        }
      ],
      "source": [
        "# Computing the Sigmoid function for the Hidden layer\n",
        "\n",
        "hidden_layer = sigmoid(sum_synapse_0)\n",
        "hidden_layer"
      ]
    },
    {
      "cell_type": "markdown",
      "metadata": {
        "id": "xf6XuL6LIzei"
      },
      "source": [
        "Dealing with the 2nd side\n"
      ]
    },
    {
      "cell_type": "code",
      "execution_count": 110,
      "metadata": {
        "colab": {
          "base_uri": "https://localhost:8080/"
        },
        "id": "tyUNBWtwIzei",
        "outputId": "0802e9e5-974c-4bcc-d25f-5f29ddb6576f"
      },
      "outputs": [
        {
          "output_type": "execute_result",
          "data": {
            "text/plain": [
              "array([[-0.017],\n",
              "       [-0.893],\n",
              "       [ 0.148]])"
            ]
          },
          "metadata": {},
          "execution_count": 110
        }
      ],
      "source": [
        "weights_1"
      ]
    },
    {
      "cell_type": "code",
      "execution_count": 111,
      "metadata": {
        "colab": {
          "base_uri": "https://localhost:8080/"
        },
        "id": "z74Y4UltIzej",
        "outputId": "aa32ffc2-be8b-4bab-d591-71d6069cd708"
      },
      "outputs": [
        {
          "output_type": "execute_result",
          "data": {
            "text/plain": [
              "array([[-0.381     ],\n",
              "       [-0.27419072],\n",
              "       [-0.25421887],\n",
              "       [-0.16834784]])"
            ]
          },
          "metadata": {},
          "execution_count": 111
        }
      ],
      "source": [
        "# \"sum_synapse_1\" This holds the sum function total of weights for the output layer\n",
        "# For the Output: Each row holds the sum_func for each input data\n",
        "\n",
        "sum_synapse_1 = np.dot(hidden_layer, weights_1)\n",
        "sum_synapse_1"
      ]
    },
    {
      "cell_type": "code",
      "execution_count": 112,
      "metadata": {
        "colab": {
          "base_uri": "https://localhost:8080/"
        },
        "id": "yLVy7wbwIzej",
        "outputId": "94a9319c-89fa-41c7-cb52-78080230d303"
      },
      "outputs": [
        {
          "output_type": "execute_result",
          "data": {
            "text/plain": [
              "array([[0.40588573],\n",
              "       [0.43187857],\n",
              "       [0.43678536],\n",
              "       [0.45801216]])"
            ]
          },
          "metadata": {},
          "execution_count": 112
        }
      ],
      "source": [
        "output_layer = sigmoid(sum_synapse_1)\n",
        "output_layer"
      ]
    },
    {
      "cell_type": "code",
      "execution_count": 113,
      "metadata": {
        "colab": {
          "base_uri": "https://localhost:8080/"
        },
        "id": "7p7AmE6vIzek",
        "outputId": "6a02ee67-2392-43f2-fb7a-dfae86539946"
      },
      "outputs": [
        {
          "output_type": "execute_result",
          "data": {
            "text/plain": [
              "array([[0],\n",
              "       [1],\n",
              "       [1],\n",
              "       [0]])"
            ]
          },
          "metadata": {},
          "execution_count": 113
        }
      ],
      "source": [
        "outputs"
      ]
    },
    {
      "cell_type": "code",
      "execution_count": 114,
      "metadata": {
        "colab": {
          "base_uri": "https://localhost:8080/"
        },
        "id": "P8lGYlhIIzek",
        "outputId": "f7186681-c2c3-4d48-e212-65233def7b6b"
      },
      "outputs": [
        {
          "output_type": "execute_result",
          "data": {
            "text/plain": [
              "array([[0.40588573],\n",
              "       [0.43187857],\n",
              "       [0.43678536],\n",
              "       [0.45801216]])"
            ]
          },
          "metadata": {},
          "execution_count": 114
        }
      ],
      "source": [
        "output_layer"
      ]
    },
    {
      "cell_type": "code",
      "execution_count": 115,
      "metadata": {
        "colab": {
          "base_uri": "https://localhost:8080/"
        },
        "id": "lx7KGo4-Izek",
        "outputId": "b45c9862-08e1-48b5-efac-caa8fb989185"
      },
      "outputs": [
        {
          "output_type": "execute_result",
          "data": {
            "text/plain": [
              "array([[-0.40588573],\n",
              "       [ 0.56812143],\n",
              "       [ 0.56321464],\n",
              "       [-0.45801216]])"
            ]
          },
          "metadata": {},
          "execution_count": 115
        }
      ],
      "source": [
        "error_output_layer = outputs - output_layer\n",
        "error_output_layer"
      ]
    },
    {
      "cell_type": "code",
      "execution_count": 116,
      "metadata": {
        "colab": {
          "base_uri": "https://localhost:8080/"
        },
        "id": "zRsJblOhIzek",
        "outputId": "75fd0bdc-575c-4c62-bf42-137d29848be7"
      },
      "outputs": [
        {
          "output_type": "execute_result",
          "data": {
            "text/plain": [
              "np.float64(0.49880848923713045)"
            ]
          },
          "metadata": {},
          "execution_count": 116
        }
      ],
      "source": [
        "average_error = np.mean(abs(error_output_layer))\n",
        "average_error"
      ]
    },
    {
      "cell_type": "markdown",
      "metadata": {
        "id": "LqObvnqaIzek"
      },
      "source": [
        "Sigmoid Derivative"
      ]
    },
    {
      "cell_type": "code",
      "execution_count": 117,
      "metadata": {
        "id": "aK_deqs1Izek"
      },
      "outputs": [],
      "source": [
        "def sigmoid_derivative(sigmoid):\n",
        "    return sigmoid * (1 - sigmoid)"
      ]
    },
    {
      "cell_type": "markdown",
      "metadata": {
        "id": "C8aE5wyGIzel"
      },
      "source": [
        "# Delta output Calculation"
      ]
    },
    {
      "cell_type": "code",
      "execution_count": 118,
      "metadata": {
        "colab": {
          "base_uri": "https://localhost:8080/"
        },
        "id": "JrFWfVYJIzel",
        "outputId": "cb808da5-1658-47e4-a4a0-cde909022ec5"
      },
      "outputs": [
        {
          "output_type": "execute_result",
          "data": {
            "text/plain": [
              "array([[0.40588573],\n",
              "       [0.43187857],\n",
              "       [0.43678536],\n",
              "       [0.45801216]])"
            ]
          },
          "metadata": {},
          "execution_count": 118
        }
      ],
      "source": [
        "# output_layer holds the results of our application of the sigmoid, computed above\n",
        "\n",
        "output_layer"
      ]
    },
    {
      "cell_type": "code",
      "execution_count": 119,
      "metadata": {
        "colab": {
          "base_uri": "https://localhost:8080/"
        },
        "id": "bssTzpOfIzel",
        "outputId": "7611609b-4846-4cb6-86d4-5a8d03f1c0de"
      },
      "outputs": [
        {
          "output_type": "execute_result",
          "data": {
            "text/plain": [
              "array([[0.2411425 ],\n",
              "       [0.24535947],\n",
              "       [0.24600391],\n",
              "       [0.24823702]])"
            ]
          },
          "metadata": {},
          "execution_count": 119
        }
      ],
      "source": [
        "# derivative_output is our Derivative of the activation function (sigmoid) which we have on the slide\n",
        "# each row is for each instance of our input dataset\n",
        "\n",
        "derivative_output = sigmoid_derivative(output_layer)\n",
        "derivative_output"
      ]
    },
    {
      "cell_type": "code",
      "execution_count": 120,
      "metadata": {
        "colab": {
          "base_uri": "https://localhost:8080/"
        },
        "id": "MR9UhHK9Izel",
        "outputId": "0991c202-3e52-4d20-a5cb-70b4e5b339fa"
      },
      "outputs": [
        {
          "output_type": "execute_result",
          "data": {
            "text/plain": [
              "array([[-0.40588573],\n",
              "       [ 0.56812143],\n",
              "       [ 0.56321464],\n",
              "       [-0.45801216]])"
            ]
          },
          "metadata": {},
          "execution_count": 120
        }
      ],
      "source": [
        "error_output_layer"
      ]
    },
    {
      "cell_type": "code",
      "execution_count": 121,
      "metadata": {
        "colab": {
          "base_uri": "https://localhost:8080/"
        },
        "id": "11eC5xhVIzel",
        "outputId": "2d83d7a2-7cf9-42c0-dc89-222919dde0ae"
      },
      "outputs": [
        {
          "output_type": "execute_result",
          "data": {
            "text/plain": [
              "array([[-0.0978763 ],\n",
              "       [ 0.13939397],\n",
              "       [ 0.138553  ],\n",
              "       [-0.11369557]])"
            ]
          },
          "metadata": {},
          "execution_count": 121
        }
      ],
      "source": [
        "# Delta output\n",
        "# each row is for each instance of our input dataset\n",
        "\n",
        "delta_output = error_output_layer * derivative_output\n",
        "delta_output"
      ]
    },
    {
      "cell_type": "markdown",
      "metadata": {
        "id": "JjYeMf0CIzel"
      },
      "source": [
        "# Delta calculations for the Hidden Layer\n"
      ]
    },
    {
      "cell_type": "code",
      "execution_count": 122,
      "metadata": {
        "colab": {
          "base_uri": "https://localhost:8080/"
        },
        "id": "MSoCXyiCIzel",
        "outputId": "0eab7803-1393-4fa8-ec3a-7281acb9a1b0"
      },
      "outputs": [
        {
          "output_type": "execute_result",
          "data": {
            "text/plain": [
              "array([[-0.0978763 ],\n",
              "       [ 0.13939397],\n",
              "       [ 0.138553  ],\n",
              "       [-0.11369557]])"
            ]
          },
          "metadata": {},
          "execution_count": 122
        }
      ],
      "source": [
        "delta_output"
      ]
    },
    {
      "cell_type": "code",
      "execution_count": 123,
      "metadata": {
        "colab": {
          "base_uri": "https://localhost:8080/"
        },
        "id": "DZFUE3OkIzel",
        "outputId": "4395e791-ed87-46cc-a37e-7f464c2e0fda"
      },
      "outputs": [
        {
          "output_type": "execute_result",
          "data": {
            "text/plain": [
              "array([[-0.017],\n",
              "       [-0.893],\n",
              "       [ 0.148]])"
            ]
          },
          "metadata": {},
          "execution_count": 123
        }
      ],
      "source": [
        "weights_1"
      ]
    },
    {
      "cell_type": "markdown",
      "metadata": {
        "id": "lblbe1sxIzem"
      },
      "source": [
        "#### NOTE THAT:\n",
        "    * Lets deal with this part first (Weight  * delta_output)\n",
        "    * Notice that we will get an error below becuase of the shape of the weights_1  (Transpose)"
      ]
    },
    {
      "cell_type": "code",
      "execution_count": 124,
      "metadata": {
        "id": "VIYyQULcIzem"
      },
      "outputs": [],
      "source": [
        "delta_output_x_weight = delta_output.dot(weights_1.T)"
      ]
    },
    {
      "cell_type": "code",
      "execution_count": 125,
      "metadata": {
        "colab": {
          "base_uri": "https://localhost:8080/"
        },
        "id": "LEGJx0Q6Izem",
        "outputId": "ee1b3679-0149-48ad-9cc0-dfaa90bd4cf8"
      },
      "outputs": [
        {
          "output_type": "execute_result",
          "data": {
            "text/plain": [
              "(3, 1)"
            ]
          },
          "metadata": {},
          "execution_count": 125
        }
      ],
      "source": [
        "weights_1.shape"
      ]
    },
    {
      "cell_type": "code",
      "execution_count": 126,
      "metadata": {
        "colab": {
          "base_uri": "https://localhost:8080/"
        },
        "id": "zvV5z9tMIzem",
        "outputId": "e73e15c6-dc4d-4ea6-a90e-191ea2349874"
      },
      "outputs": [
        {
          "output_type": "execute_result",
          "data": {
            "text/plain": [
              "array([[-0.017, -0.893,  0.148]])"
            ]
          },
          "metadata": {},
          "execution_count": 126
        }
      ],
      "source": [
        "weights_1T = weights_1.T\n",
        "weights_1T"
      ]
    },
    {
      "cell_type": "code",
      "execution_count": 127,
      "metadata": {
        "colab": {
          "base_uri": "https://localhost:8080/"
        },
        "id": "b7SGCnROIzem",
        "outputId": "4dd8e735-71d2-48c6-9ccf-7fa5c07e96b3"
      },
      "outputs": [
        {
          "output_type": "execute_result",
          "data": {
            "text/plain": [
              "(1, 3)"
            ]
          },
          "metadata": {},
          "execution_count": 127
        }
      ],
      "source": [
        "weights_1T.shape"
      ]
    },
    {
      "cell_type": "markdown",
      "metadata": {
        "id": "3FEpNONfIzem"
      },
      "source": [
        "#### Each one of the weights will have to be multiplied by each delta_output for each data instance     \n",
        "       \n",
        "       array([[-0.017],\n",
        "             [-0.893],\n",
        "             [ 0.148]])"
      ]
    },
    {
      "cell_type": "code",
      "execution_count": 128,
      "metadata": {
        "colab": {
          "base_uri": "https://localhost:8080/"
        },
        "id": "Aa963WhCIzem",
        "outputId": "95760f04-2ee4-4c1f-a043-1652504deb72"
      },
      "outputs": [
        {
          "output_type": "execute_result",
          "data": {
            "text/plain": [
              "array([[ 0.0016639 ,  0.08740354, -0.01448569],\n",
              "       [-0.0023697 , -0.12447882,  0.02063031],\n",
              "       [-0.0023554 , -0.12372783,  0.02050584],\n",
              "       [ 0.00193282,  0.10153015, -0.01682694]])"
            ]
          },
          "metadata": {},
          "execution_count": 128
        }
      ],
      "source": [
        "delta_output_x_weight = delta_output.dot(weights_1T)\n",
        "delta_output_x_weight"
      ]
    },
    {
      "cell_type": "markdown",
      "metadata": {
        "id": "83Vm2jRQIzem"
      },
      "source": [
        "#### NOTE THAT:\n",
        "    * Now we need to deal with the last part of the equation   \n",
        "    * sigmoid_derivative * delta_output_x_weight"
      ]
    },
    {
      "cell_type": "code",
      "execution_count": 129,
      "metadata": {
        "colab": {
          "base_uri": "https://localhost:8080/"
        },
        "id": "6YtKEjBBIzen",
        "outputId": "dc2e7cbe-eebb-4202-a546-3c6465dcd712"
      },
      "outputs": [
        {
          "output_type": "execute_result",
          "data": {
            "text/plain": [
              "array([[0.5       , 0.5       , 0.5       ],\n",
              "       [0.5885562 , 0.35962319, 0.38485296],\n",
              "       [0.39555998, 0.32300414, 0.27667802],\n",
              "       [0.48350599, 0.21131785, 0.19309868]])"
            ]
          },
          "metadata": {},
          "execution_count": 129
        }
      ],
      "source": [
        "hidden_layer"
      ]
    },
    {
      "cell_type": "code",
      "execution_count": 130,
      "metadata": {
        "colab": {
          "base_uri": "https://localhost:8080/"
        },
        "id": "P0SgwgtaIzen",
        "outputId": "5310a748-72dd-4cc7-b6f7-ef57c66221fe"
      },
      "outputs": [
        {
          "output_type": "execute_result",
          "data": {
            "text/plain": [
              "array([[ 0.00041597,  0.02185088, -0.00362142],\n",
              "       [-0.00057384, -0.02866677,  0.00488404],\n",
              "       [-0.00056316, -0.02705587,  0.00410378],\n",
              "       [ 0.00048268,  0.01692128, -0.00262183]])"
            ]
          },
          "metadata": {},
          "execution_count": 130
        }
      ],
      "source": [
        "#  Each row in the output of delta_hidden_layer is for the data input values\n",
        "\n",
        "delta_hidden_layer = delta_output_x_weight * sigmoid_derivative(hidden_layer)\n",
        "delta_hidden_layer"
      ]
    },
    {
      "cell_type": "markdown",
      "metadata": {
        "id": "Z7ovJ24VIzen"
      },
      "source": [
        "#### We will deal with the (input * delta) first\n",
        "* The first column in \"hidden_layer\" holds  the activation value for the first neuron"
      ]
    },
    {
      "cell_type": "code",
      "execution_count": 131,
      "metadata": {
        "colab": {
          "base_uri": "https://localhost:8080/"
        },
        "id": "-HmJEjcwIzen",
        "outputId": "266cf64b-fd8f-4f69-df35-bc5b8f64328d"
      },
      "outputs": [
        {
          "output_type": "execute_result",
          "data": {
            "text/plain": [
              "array([[0.5       , 0.5       , 0.5       ],\n",
              "       [0.5885562 , 0.35962319, 0.38485296],\n",
              "       [0.39555998, 0.32300414, 0.27667802],\n",
              "       [0.48350599, 0.21131785, 0.19309868]])"
            ]
          },
          "metadata": {},
          "execution_count": 131
        }
      ],
      "source": [
        "hidden_layer"
      ]
    },
    {
      "cell_type": "code",
      "execution_count": 132,
      "metadata": {
        "colab": {
          "base_uri": "https://localhost:8080/"
        },
        "id": "CqPMCac5Izen",
        "outputId": "d6af8b22-3de4-4681-ffe5-312c9a8a7e55"
      },
      "outputs": [
        {
          "output_type": "execute_result",
          "data": {
            "text/plain": [
              "array([[-0.0978763 ],\n",
              "       [ 0.13939397],\n",
              "       [ 0.138553  ],\n",
              "       [-0.11369557]])"
            ]
          },
          "metadata": {},
          "execution_count": 132
        }
      ],
      "source": [
        "delta_output"
      ]
    },
    {
      "cell_type": "markdown",
      "metadata": {
        "id": "x7pgH_dEIzen"
      },
      "source": [
        "* We need to multiply the \"inputs\" by \"delta\" however, for the matrix multiplication we need to transpose the values in the hidden_layer, so we have all of them on one row for each neuron"
      ]
    },
    {
      "cell_type": "code",
      "execution_count": 133,
      "metadata": {
        "colab": {
          "base_uri": "https://localhost:8080/"
        },
        "id": "fRZIgEbwIzen",
        "outputId": "b1c4443e-c0a3-44ef-8dd7-29410fc6d280"
      },
      "outputs": [
        {
          "output_type": "execute_result",
          "data": {
            "text/plain": [
              "array([[0.5       , 0.5885562 , 0.39555998, 0.48350599],\n",
              "       [0.5       , 0.35962319, 0.32300414, 0.21131785],\n",
              "       [0.5       , 0.38485296, 0.27667802, 0.19309868]])"
            ]
          },
          "metadata": {},
          "execution_count": 133
        }
      ],
      "source": [
        "hidden_layerT = hidden_layer.T\n",
        "hidden_layerT"
      ]
    },
    {
      "cell_type": "code",
      "execution_count": 134,
      "metadata": {
        "colab": {
          "base_uri": "https://localhost:8080/"
        },
        "id": "BQiNmdWmIzen",
        "outputId": "9e5c17f4-b353-477e-d674-dba1b65c70ca"
      },
      "outputs": [
        {
          "output_type": "execute_result",
          "data": {
            "text/plain": [
              "array([[0.03293657],\n",
              "       [0.02191844],\n",
              "       [0.02108814]])"
            ]
          },
          "metadata": {},
          "execution_count": 134
        }
      ],
      "source": [
        "input_x_delta1 = hidden_layerT.dot(delta_output)\n",
        "input_x_delta1"
      ]
    },
    {
      "cell_type": "markdown",
      "metadata": {
        "id": "p0yULJp-Izeo"
      },
      "source": [
        "#### Let us now update the \"weights_1\""
      ]
    },
    {
      "cell_type": "code",
      "execution_count": 135,
      "metadata": {
        "colab": {
          "base_uri": "https://localhost:8080/"
        },
        "id": "jg0JUc2eIzeo",
        "outputId": "3f311d6b-8074-4057-e3b5-24254eb0eaec"
      },
      "outputs": [
        {
          "output_type": "execute_result",
          "data": {
            "text/plain": [
              "array([[-0.00711903],\n",
              "       [-0.88642447],\n",
              "       [ 0.15432644]])"
            ]
          },
          "metadata": {},
          "execution_count": 135
        }
      ],
      "source": [
        "weights_1 = weights_1 + (input_x_delta1 * learning_rate)\n",
        "weights_1"
      ]
    },
    {
      "cell_type": "markdown",
      "metadata": {
        "id": "gLhL3OBJIzeo"
      },
      "source": [
        "## Dealing with the Hidden Layer to Input Layer\n"
      ]
    },
    {
      "cell_type": "code",
      "execution_count": 136,
      "metadata": {
        "colab": {
          "base_uri": "https://localhost:8080/"
        },
        "id": "ztWnhal3Izeo",
        "outputId": "3a7de4c8-31c3-47e1-f58f-fd6af9e1c51a"
      },
      "outputs": [
        {
          "output_type": "execute_result",
          "data": {
            "text/plain": [
              "array([[0, 0],\n",
              "       [0, 1],\n",
              "       [1, 0],\n",
              "       [1, 1]])"
            ]
          },
          "metadata": {},
          "execution_count": 136
        }
      ],
      "source": [
        "# First column is X1, and 2nd column is X2 (our input values )\n",
        "\n",
        "input_layer"
      ]
    },
    {
      "cell_type": "code",
      "execution_count": 137,
      "metadata": {
        "colab": {
          "base_uri": "https://localhost:8080/"
        },
        "id": "3d-g04QpIzeo",
        "outputId": "f03bf573-184f-4ef0-fec2-74dcca2153ce"
      },
      "outputs": [
        {
          "output_type": "execute_result",
          "data": {
            "text/plain": [
              "array([[ 0.00041597,  0.02185088, -0.00362142],\n",
              "       [-0.00057384, -0.02866677,  0.00488404],\n",
              "       [-0.00056316, -0.02705587,  0.00410378],\n",
              "       [ 0.00048268,  0.01692128, -0.00262183]])"
            ]
          },
          "metadata": {},
          "execution_count": 137
        }
      ],
      "source": [
        "delta_hidden_layer"
      ]
    },
    {
      "cell_type": "code",
      "execution_count": 138,
      "metadata": {
        "colab": {
          "base_uri": "https://localhost:8080/"
        },
        "id": "wi-Uyg-RIzeo",
        "outputId": "2333d363-e8ca-40fc-cc44-526181f29acb"
      },
      "outputs": [
        {
          "output_type": "execute_result",
          "data": {
            "text/plain": [
              "array([[0, 0, 1, 1],\n",
              "       [0, 1, 0, 1]])"
            ]
          },
          "metadata": {},
          "execution_count": 138
        }
      ],
      "source": [
        "# we need to transpose the values just as we did before\n",
        "\n",
        "input_layerT = input_layer.T\n",
        "input_layerT"
      ]
    },
    {
      "cell_type": "code",
      "execution_count": 139,
      "metadata": {
        "colab": {
          "base_uri": "https://localhost:8080/"
        },
        "id": "8mAHHBUkIzeo",
        "outputId": "3434865d-596e-4d49-d10b-5be60e367b44"
      },
      "outputs": [
        {
          "output_type": "execute_result",
          "data": {
            "text/plain": [
              "array([[-8.04778516e-05, -1.01345901e-02,  1.48194623e-03],\n",
              "       [-9.11603819e-05, -1.17454886e-02,  2.26221011e-03]])"
            ]
          },
          "metadata": {},
          "execution_count": 139
        }
      ],
      "source": [
        "input_x_delta0 = input_layerT.dot(delta_hidden_layer)\n",
        "input_x_delta0"
      ]
    },
    {
      "cell_type": "code",
      "execution_count": 140,
      "metadata": {
        "colab": {
          "base_uri": "https://localhost:8080/"
        },
        "id": "an3Bjk6kIzep",
        "outputId": "298a7530-1c5b-4dc0-da0c-53f8ac591321"
      },
      "outputs": [
        {
          "output_type": "execute_result",
          "data": {
            "text/plain": [
              "array([[-0.42402414, -0.74304038, -0.96055542],\n",
              "       [ 0.35797265, -0.58052365, -0.46832134]])"
            ]
          },
          "metadata": {},
          "execution_count": 140
        }
      ],
      "source": [
        "weights_0 = weights_0 + (input_x_delta0 * learning_rate)\n",
        "weights_0"
      ]
    },
    {
      "cell_type": "markdown",
      "metadata": {
        "id": "c8VhXNG7Izep"
      },
      "source": [
        "### So all the lines of code above, has allowed us to complete our first epoch. we will need to put all the code together so we can run multiple epochs"
      ]
    },
    {
      "cell_type": "markdown",
      "metadata": {
        "id": "eK3YkqkbIzep"
      },
      "source": [
        "# Complete Artificial Neural Network"
      ]
    },
    {
      "cell_type": "code",
      "execution_count": 141,
      "metadata": {
        "id": "jfCkGNOlIzep"
      },
      "outputs": [],
      "source": [
        "#Importing Numpy\n",
        "import numpy as np\n",
        "\n",
        "# This is the sigmoid Function\n",
        "def sigmoid(sum):\n",
        "  return 1 / (1 + np.exp(-sum))\n",
        "\n",
        "#This is the sigmoid derivative as used before\n",
        "def sigmoid_derivative(sigmoid):\n",
        "  return sigmoid * (1 - sigmoid)\n",
        "\n",
        "# Our input values\n",
        "inputs = np.array([[0,0],\n",
        "                   [0,1],\n",
        "                   [1,0],\n",
        "                   [1,1]])\n",
        "#Our output values\n",
        "outputs = np.array([[0],\n",
        "                    [1],\n",
        "                    [1],\n",
        "                    [0]])"
      ]
    },
    {
      "cell_type": "code",
      "execution_count": 142,
      "metadata": {
        "id": "aRwBOTd2Izep"
      },
      "outputs": [],
      "source": [
        "weights_0 = np.array([[-0.424, -0.740, -0.961],\n",
        "                     [0.358, -0.577, -0.469]])\n",
        "\n",
        "weights_1 = np.array([[-0.017],\n",
        "                     [-0.893],\n",
        "                     [0.148]])"
      ]
    },
    {
      "cell_type": "markdown",
      "metadata": {
        "id": "fvaJToTzIzep"
      },
      "source": [
        "### Initializing our weights with random values\n",
        "* <b>Note:</b> Multiplying the random number by 2 and subtracting by 1, allows us to have a mix of both positive and negative random numbers for the weights"
      ]
    },
    {
      "cell_type": "code",
      "execution_count": 143,
      "metadata": {
        "id": "kTOSr-ceIzep"
      },
      "outputs": [],
      "source": [
        "weights_0 = 2 * np.random.random((2, 3)) - 1\n",
        "weights_1 = 2 * np.random.random((3, 1)) - 1"
      ]
    },
    {
      "cell_type": "code",
      "execution_count": 144,
      "metadata": {
        "colab": {
          "base_uri": "https://localhost:8080/"
        },
        "id": "ImamnjKWIzep",
        "outputId": "76c2dfdc-04db-4812-ff89-1d330d09cfbe"
      },
      "outputs": [
        {
          "output_type": "stream",
          "name": "stdout",
          "text": [
            "Epoch: 1 Error: 0.5008305489351688\n",
            "Epoch: 100001 Error: 0.007598488175757259\n",
            "Epoch: 200001 Error: 0.005320037219088874\n",
            "Epoch: 300001 Error: 0.004323913922341126\n"
          ]
        }
      ],
      "source": [
        "epochs = 400000\n",
        "learning_rate = 0.6\n",
        "error = []\n",
        "\n",
        "for epoch in range(epochs):\n",
        "  input_layer = inputs\n",
        "  sum_synapse0 = np.dot(input_layer, weights_0)\n",
        "  hidden_layer = sigmoid(sum_synapse0)\n",
        "\n",
        "  sum_synapse1 = np.dot(hidden_layer, weights_1)\n",
        "  output_layer = sigmoid(sum_synapse1)\n",
        "\n",
        "  error_output_layer = outputs - output_layer\n",
        "  average = np.mean(abs(error_output_layer))\n",
        "    #print after every specified range of the value\n",
        "  if epoch % 100000 == 0:\n",
        "    print('Epoch: ' + str(epoch + 1) + ' Error: ' + str(average))\n",
        "    error.append(average)\n",
        "\n",
        "  derivative_output = sigmoid_derivative(output_layer)\n",
        "  delta_output = error_output_layer * derivative_output\n",
        "\n",
        "  weights1T = weights_1.T\n",
        "  delta_output_weight = delta_output.dot(weights1T)\n",
        "  delta_hidden_layer = delta_output_weight * sigmoid_derivative(hidden_layer)\n",
        "\n",
        "  hidden_layerT = hidden_layer.T\n",
        "  input_x_delta1 = hidden_layerT.dot(delta_output)\n",
        "  weights_1 = weights_1 + (input_x_delta1 * learning_rate)\n",
        "\n",
        "  input_layerT = input_layer.T\n",
        "  input_x_delta0 = input_layerT.dot(delta_hidden_layer)\n",
        "  weights_0 = weights_0 + (input_x_delta0 * learning_rate)"
      ]
    },
    {
      "cell_type": "markdown",
      "metadata": {
        "id": "0LkIDOzhIzeq"
      },
      "source": [
        "#### At this point after runing for 1million epochs you can see the value is very low."
      ]
    },
    {
      "cell_type": "code",
      "execution_count": 145,
      "metadata": {
        "colab": {
          "base_uri": "https://localhost:8080/"
        },
        "id": "xu64MHn9Izeq",
        "outputId": "4e863d9c-b88f-4673-ec72-9351977bb1ec"
      },
      "outputs": [
        {
          "output_type": "execute_result",
          "data": {
            "text/plain": [
              "0.9903290320690693"
            ]
          },
          "metadata": {},
          "execution_count": 145
        }
      ],
      "source": [
        "#1 million epochs with a learning rate of 0.3\n",
        "1 - 0.009670967930930745"
      ]
    },
    {
      "cell_type": "code",
      "execution_count": 146,
      "metadata": {
        "colab": {
          "base_uri": "https://localhost:8080/"
        },
        "id": "9D9cwtiSIzeq",
        "outputId": "89003f02-c67b-4996-e5bd-14a7ef004cf7"
      },
      "outputs": [
        {
          "output_type": "execute_result",
          "data": {
            "text/plain": [
              "0.9918079771904136"
            ]
          },
          "metadata": {},
          "execution_count": 146
        }
      ],
      "source": [
        "#after 400,000 epochs, with a learning rate of 0.6\n",
        "1- 0.008192022809586367"
      ]
    },
    {
      "cell_type": "markdown",
      "metadata": {
        "id": "NRLtRcY7Izeq"
      },
      "source": [
        "# Let's visualize this result"
      ]
    },
    {
      "cell_type": "code",
      "execution_count": 147,
      "metadata": {
        "id": "vWdYqTfiIzeq"
      },
      "outputs": [],
      "source": [
        "import matplotlib.pyplot as plt\n"
      ]
    },
    {
      "cell_type": "code",
      "execution_count": 148,
      "metadata": {
        "colab": {
          "base_uri": "https://localhost:8080/",
          "height": 472
        },
        "id": "28i76ZqbIzeq",
        "outputId": "adf4428c-d2c8-461e-d877-d7de8e799b90"
      },
      "outputs": [
        {
          "output_type": "display_data",
          "data": {
            "text/plain": [
              "<Figure size 640x480 with 1 Axes>"
            ],
            "image/png": "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\n"
          },
          "metadata": {}
        }
      ],
      "source": [
        "plt.xlabel('Number of Epochs')\n",
        "plt.ylabel('Error')\n",
        "plt.title('Plot showing results from Neural Network')\n",
        "plt.plot(error)\n",
        "plt.show()"
      ]
    },
    {
      "cell_type": "code",
      "execution_count": 149,
      "metadata": {
        "colab": {
          "base_uri": "https://localhost:8080/",
          "height": 472
        },
        "id": "MbutJ41vIzeq",
        "outputId": "4717fb8e-bc79-475f-aec5-984562c19022"
      },
      "outputs": [
        {
          "output_type": "display_data",
          "data": {
            "text/plain": [
              "<Figure size 640x480 with 1 Axes>"
            ],
            "image/png": "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\n"
          },
          "metadata": {}
        }
      ],
      "source": [
        "plt.xlabel('Number of Epochs')\n",
        "plt.ylabel('Error')\n",
        "plt.title('Plot showing results from Neural Network')\n",
        "plt.plot(error)\n",
        "plt.show()"
      ]
    },
    {
      "cell_type": "markdown",
      "metadata": {
        "id": "LzuxY7ZIIzeq"
      },
      "source": [
        "#### Compearing the outputs and the predictions"
      ]
    },
    {
      "cell_type": "code",
      "execution_count": 150,
      "metadata": {
        "colab": {
          "base_uri": "https://localhost:8080/"
        },
        "id": "mDwT2xoiIzeq",
        "outputId": "91d137a6-4689-4e81-feeb-41f7d3c81951"
      },
      "outputs": [
        {
          "output_type": "execute_result",
          "data": {
            "text/plain": [
              "array([[0],\n",
              "       [1],\n",
              "       [1],\n",
              "       [0]])"
            ]
          },
          "metadata": {},
          "execution_count": 150
        }
      ],
      "source": [
        "outputs"
      ]
    },
    {
      "cell_type": "code",
      "execution_count": 151,
      "metadata": {
        "colab": {
          "base_uri": "https://localhost:8080/"
        },
        "id": "D2ZgRKB3Izeq",
        "outputId": "ac9c6b8e-f1d3-4cb2-b03e-2e10744c2e8e"
      },
      "outputs": [
        {
          "output_type": "execute_result",
          "data": {
            "text/plain": [
              "array([[6.43054924e-03],\n",
              "       [9.96148682e-01],\n",
              "       [9.96148709e-01],\n",
              "       [8.02823121e-04]])"
            ]
          },
          "metadata": {},
          "execution_count": 151
        }
      ],
      "source": [
        "output_layer"
      ]
    },
    {
      "cell_type": "markdown",
      "metadata": {
        "id": "wluYonwBIzer"
      },
      "source": [
        "#### * We see that our neural network was able to get values close to the actual values from the results.\n",
        "#### * This shows that our neural network can handle the complexity of the XOR operator dataset."
      ]
    },
    {
      "cell_type": "markdown",
      "metadata": {
        "id": "wg8hbI5nIzer"
      },
      "source": [
        "* Let us see the updated weights. These are the weights we will require if we want to make future predictions"
      ]
    },
    {
      "cell_type": "code",
      "execution_count": 152,
      "metadata": {
        "colab": {
          "base_uri": "https://localhost:8080/"
        },
        "id": "BdWKSrguIzer",
        "outputId": "9a32c29e-acda-4da8-baa8-41300437fce3"
      },
      "outputs": [
        {
          "output_type": "execute_result",
          "data": {
            "text/plain": [
              "array([[ 6.10004383, -4.89301972,  7.18178917],\n",
              "       [ 6.11621878,  7.15537217, -4.90199   ]])"
            ]
          },
          "metadata": {},
          "execution_count": 152
        }
      ],
      "source": [
        "weights_0"
      ]
    },
    {
      "cell_type": "code",
      "execution_count": 153,
      "metadata": {
        "colab": {
          "base_uri": "https://localhost:8080/"
        },
        "id": "jvl0tFlHIzer",
        "outputId": "7f9b4148-c0ef-41f5-d49d-84ded32e703e"
      },
      "outputs": [
        {
          "output_type": "execute_result",
          "data": {
            "text/plain": [
              "array([[ 21.49657357],\n",
              "       [-15.78961064],\n",
              "       [-15.78745348]])"
            ]
          },
          "metadata": {},
          "execution_count": 153
        }
      ],
      "source": [
        "weights_1"
      ]
    },
    {
      "cell_type": "code",
      "execution_count": 154,
      "metadata": {
        "id": "RPH49XbYIzer"
      },
      "outputs": [],
      "source": [
        "# This function accepts an instance of a dataset\n",
        "\n",
        "def calculate_output(instance):\n",
        "    #input to hidden layer\n",
        "    hidden_layer = sigmoid(np.dot(instance, weights_0))\n",
        "    #hidden to output layer\n",
        "    output_layer = sigmoid(np.dot(hidden_layer, weights_1))\n",
        "    return output_layer[0]"
      ]
    },
    {
      "cell_type": "code",
      "execution_count": 155,
      "metadata": {
        "colab": {
          "base_uri": "https://localhost:8080/"
        },
        "id": "gdtM1pCyIzer",
        "outputId": "98b56aac-48ab-4667-fe88-f8184bd8fcea"
      },
      "outputs": [
        {
          "output_type": "execute_result",
          "data": {
            "text/plain": [
              "0"
            ]
          },
          "metadata": {},
          "execution_count": 155
        }
      ],
      "source": [
        "round(calculate_output(np.array([0, 0])))"
      ]
    },
    {
      "cell_type": "code",
      "execution_count": 156,
      "metadata": {
        "colab": {
          "base_uri": "https://localhost:8080/"
        },
        "id": "KR6hWN70Izer",
        "outputId": "ad04b2d8-3fa6-48c3-eb09-dfa6cf6025f1"
      },
      "outputs": [
        {
          "output_type": "execute_result",
          "data": {
            "text/plain": [
              "1"
            ]
          },
          "metadata": {},
          "execution_count": 156
        }
      ],
      "source": [
        "round(calculate_output(np.array([0, 1])))"
      ]
    },
    {
      "cell_type": "code",
      "execution_count": 157,
      "metadata": {
        "colab": {
          "base_uri": "https://localhost:8080/"
        },
        "id": "x-WmOdqYIzer",
        "outputId": "4df2107b-e8a8-40be-ac95-8da0a14399a4"
      },
      "outputs": [
        {
          "output_type": "execute_result",
          "data": {
            "text/plain": [
              "1"
            ]
          },
          "metadata": {},
          "execution_count": 157
        }
      ],
      "source": [
        "round(calculate_output(np.array([1, 0])))"
      ]
    },
    {
      "cell_type": "code",
      "execution_count": 158,
      "metadata": {
        "colab": {
          "base_uri": "https://localhost:8080/"
        },
        "id": "GAlZBxkiIzes",
        "outputId": "7098c2f4-6ec5-421f-d3fc-6322b5c012db"
      },
      "outputs": [
        {
          "output_type": "execute_result",
          "data": {
            "text/plain": [
              "0"
            ]
          },
          "metadata": {},
          "execution_count": 158
        }
      ],
      "source": [
        "round(calculate_output(np.array([1, 1])))"
      ]
    }
  ],
  "metadata": {
    "kernelspec": {
      "display_name": "Python 3",
      "language": "python",
      "name": "python3"
    },
    "language_info": {
      "codemirror_mode": {
        "name": "ipython",
        "version": 3
      },
      "file_extension": ".py",
      "mimetype": "text/x-python",
      "name": "python",
      "nbconvert_exporter": "python",
      "pygments_lexer": "ipython3",
      "version": "3.7.6"
    },
    "colab": {
      "provenance": [],
      "include_colab_link": true
    }
  },
  "nbformat": 4,
  "nbformat_minor": 0
}
